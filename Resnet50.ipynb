{
 "cells": [
  {
   "cell_type": "code",
   "execution_count": 19,
   "metadata": {},
   "outputs": [],
   "source": [
    "%reload_ext autoreload\n",
    "%autoreload 2\n",
    "%matplotlib inline"
   ]
  },
  {
   "cell_type": "code",
   "execution_count": 20,
   "metadata": {},
   "outputs": [],
   "source": [
    "import numpy as np\n",
    "from fastai.vision import *\n",
    "from fastai.metrics import error_rate\n",
    "import random"
   ]
  },
  {
   "cell_type": "code",
   "execution_count": 21,
   "metadata": {},
   "outputs": [],
   "source": [
    "bs = 64"
   ]
  },
  {
   "cell_type": "code",
   "execution_count": 22,
   "metadata": {
    "scrolled": true
   },
   "outputs": [],
   "source": [
    "path = '/home/temp/Documents/images_corrected_no_classes/'\n",
    "\n",
    "img_folder = 'images/'    # Let img_folder be a directory of a small image dataset for quick debugging"
   ]
  },
  {
   "cell_type": "code",
   "execution_count": 23,
   "metadata": {},
   "outputs": [
    {
     "name": "stdout",
     "output_type": "stream",
     "text": [
      "158 1158\n"
     ]
    }
   ],
   "source": [
    "measles_img = get_image_files(path + img_folder + \"Measles\")\n",
    "not_measles_img = get_image_files(path + img_folder + \"Not_Measles\")\n",
    "\n",
    "print(len(measles_img), len(not_measles_img))"
   ]
  },
  {
   "cell_type": "markdown",
   "metadata": {},
   "source": [
    "# Cross validation"
   ]
  },
  {
   "cell_type": "markdown",
   "metadata": {},
   "source": [
    "As we have a small data set, to obtain robust results, we perform cross validation by partitioning all images into 5 sets."
   ]
  },
  {
   "cell_type": "code",
   "execution_count": 24,
   "metadata": {},
   "outputs": [
    {
     "name": "stdout",
     "output_type": "stream",
     "text": [
      "[31, 63, 94, 126]\n",
      "[231, 463, 694, 926]\n"
     ]
    }
   ],
   "source": [
    "random.shuffle(measles_img)\n",
    "random.shuffle(not_measles_img)\n",
    "\n",
    "cut_point_m = [int(len(measles_img)* n/5) for n in range(1,5)]\n",
    "cut_point_n = [int(len(not_measles_img)* n/5) for n in range(1,5)]\n",
    "\n",
    "print(cut_point_m)\n",
    "print(cut_point_n)"
   ]
  },
  {
   "cell_type": "markdown",
   "metadata": {},
   "source": [
    "The following shows how to define the five validation sets and the corresponding training sets, each of which is the complement of the related validation set:\n",
    "\n",
    "    valid1 = not_measles_img[0:cut_point_n[0]] + measles_img[0:cut_point_m[0]]\n",
    "    train1 = set(not_measles_img + measles_img) - set(valid1)\n",
    "\n",
    "    valid2 = not_measles_img[cut_point_n[0]:cut_point_n[1]] + measles_img[cut_point_m[0]:cut_point_m[1]]\n",
    "    train2 = set(not_measles_img + measles_img) - set(valid2)\n",
    "\n",
    "    valid3 = not_measles_img[cut_point_n[1]:cut_point_n[2]] + measles_img[cut_point_m[1]:cut_point_m[2]]\n",
    "    train3 = set(not_measles_img + measles_img) - set(valid3)\n",
    "\n",
    "    valid4 = not_measles_img[cut_point_n[2]:cut_point_n[3]] + measles_img[cut_point_m[2]:cut_point_m[3]]\n",
    "    train4 = set(not_measles_img + measles_img) - set(valid4)\n",
    "\n",
    "    valid5 = not_measles_img[cut_point_n[3]:len(not_measles_img)] + measles_img[cut_point_m[3]:len(measles_img)]\n",
    "    train5 = set(not_measles_img + measles_img) - set(valid5)"
   ]
  },
  {
   "cell_type": "markdown",
   "metadata": {},
   "source": [
    "Prepare directories required to store symlinks of image files"
   ]
  },
  {
   "cell_type": "code",
   "execution_count": 25,
   "metadata": {
    "scrolled": true
   },
   "outputs": [
    {
     "name": "stdout",
     "output_type": "stream",
     "text": [
      "/home/temp/Documents/images_corrected_no_classes\n"
     ]
    }
   ],
   "source": [
    "%cd $path\n",
    "!mkdir -p valid/Measles valid/Not_Measles train/Measles train/Not_Measles\n"
   ]
  },
  {
   "cell_type": "code",
   "execution_count": 26,
   "metadata": {},
   "outputs": [],
   "source": [
    "def create_img_symlinks(fnames, folder, rm_file=True):\n",
    "  %cd $folder \n",
    "  if rm_file:\n",
    "    %rm -f *\n",
    "  for f in fnames:\n",
    "    !ln -s \"$f\" ."
   ]
  },
  {
   "cell_type": "code",
   "execution_count": 27,
   "metadata": {},
   "outputs": [],
   "source": [
    "def prepare_img_files(idx_min_m, idx_max_m, idx_min_n, idx_max_n):\n",
    "    # Create symlinks for images in validation set\n",
    "    create_img_symlinks(    measles_img[idx_min_m:idx_max_m], path+\"valid/Measles\")\n",
    "    create_img_symlinks(not_measles_img[idx_min_n:idx_max_n], path+\"valid/Not_Measles\")    \n",
    "    # Create symlinks for images in training set\n",
    "    if idx_min_m>0:\n",
    "        create_img_symlinks(measles_img[:idx_min_m],      path+\"train/Measles\")\n",
    "    if idx_max_m<len(measles_img):\n",
    "        create_img_symlinks(measles_img[idx_max_m:],      path+\"train/Measles\", idx_min_m==0)\n",
    "    if idx_min_n>0:\n",
    "        create_img_symlinks(not_measles_img[:idx_min_n],  path+\"train/Not_Measles\")\n",
    "    if idx_max_n<len(not_measles_img):\n",
    "        create_img_symlinks(not_measles_img[idx_max_n:],  path+\"train/Not_Measles\", idx_min_n==0)"
   ]
  },
  {
   "cell_type": "code",
   "execution_count": 28,
   "metadata": {},
   "outputs": [],
   "source": [
    "def model_training(mdl_idx):\n",
    "    data = ImageDataBunch.from_folder(path= path, train='train', valid='valid', bs=bs, ds_tfms=get_transforms(), \n",
    "                                  size=299, num_workers=0).normalize(imagenet_stats)\n",
    "    learn = cnn_learner(data, models.resnet50, metrics={error_rate,accuracy,AUROC})\n",
    "    #\n",
    "    learn.fit_one_cycle(8)\n",
    "    #\n",
    "    mdl_name = 'stage-3-50-'+str(mdl_idx)\n",
    "    learn.save(mdl_name)\n",
    "    #\n",
    "    interp = ClassificationInterpretation.from_learner(learn)\n",
    "    #\n",
    "    interp.most_confused(min_val=2)\n",
    "    #\n",
    "    interp.plot_confusion_matrix(figsize=(6,6),dpi=60)\n",
    "    #\n",
    "    learn.unfreeze()\n",
    "    #\n",
    "    learn.lr_find()\n",
    "    learn.recorder.plot()\n",
    "    #\n",
    "    learn.fit_one_cycle(3, max_lr=slice(1e-6,1e-4))\n",
    "    #\n",
    "    # learn.load(mdl_name);\n",
    "    #\n",
    "    interp = ClassificationInterpretation.from_learner(learn)\n",
    "    #\n",
    "    interp.most_confused(min_val=2)\n",
    "    #\n",
    "    interp.plot_confusion_matrix(figsize=(6,6),dpi=60)\n",
    "    #\n",
    "    #create a file named 'export.pkl' in the directory where we were working that contains everything we need to deploy our model (the model, the weights but also some metadata like the classes or the transforms/normalization used)\n",
    "    learn.export()\n",
    "    #saved in the training images file\n",
    "    #\n",
    "    from_file = path + \"/export.pkl\"\n",
    "    to_file = path + \"/models/export-\" + str(mdl_idx) + \".pkl\"\n",
    "    %mv $from_file $to_file"
   ]
  },
  {
   "cell_type": "markdown",
   "metadata": {},
   "source": [
    "## First iteration of cross validation"
   ]
  },
  {
   "cell_type": "code",
   "execution_count": 29,
   "metadata": {
    "scrolled": false
   },
   "outputs": [
    {
     "name": "stdout",
     "output_type": "stream",
     "text": [
      "/home/temp/Documents/images_corrected_no_classes/valid/Measles\n",
      "/home/temp/Documents/images_corrected_no_classes/valid/Not_Measles\n",
      "/home/temp/Documents/images_corrected_no_classes/train/Measles\n",
      "/home/temp/Documents/images_corrected_no_classes/train/Not_Measles\n"
     ]
    },
    {
     "data": {
      "text/html": [
       "<table border=\"1\" class=\"dataframe\">\n",
       "  <thead>\n",
       "    <tr style=\"text-align: left;\">\n",
       "      <th>epoch</th>\n",
       "      <th>train_loss</th>\n",
       "      <th>valid_loss</th>\n",
       "      <th>accuracy</th>\n",
       "      <th>error_rate</th>\n",
       "      <th>time</th>\n",
       "    </tr>\n",
       "  </thead>\n",
       "  <tbody>\n",
       "    <tr>\n",
       "      <td>0</td>\n",
       "      <td>1.153392</td>\n",
       "      <td>0.836448</td>\n",
       "      <td>0.580153</td>\n",
       "      <td>0.419847</td>\n",
       "      <td>07:33</td>\n",
       "    </tr>\n",
       "    <tr>\n",
       "      <td>1</td>\n",
       "      <td>1.066412</td>\n",
       "      <td>0.577776</td>\n",
       "      <td>0.782443</td>\n",
       "      <td>0.217557</td>\n",
       "      <td>07:31</td>\n",
       "    </tr>\n",
       "    <tr>\n",
       "      <td>2</td>\n",
       "      <td>0.822183</td>\n",
       "      <td>0.336804</td>\n",
       "      <td>0.858779</td>\n",
       "      <td>0.141221</td>\n",
       "      <td>07:31</td>\n",
       "    </tr>\n",
       "    <tr>\n",
       "      <td>3</td>\n",
       "      <td>0.630455</td>\n",
       "      <td>0.210280</td>\n",
       "      <td>0.916031</td>\n",
       "      <td>0.083969</td>\n",
       "      <td>07:31</td>\n",
       "    </tr>\n",
       "    <tr>\n",
       "      <td>4</td>\n",
       "      <td>0.491938</td>\n",
       "      <td>0.159990</td>\n",
       "      <td>0.942748</td>\n",
       "      <td>0.057252</td>\n",
       "      <td>07:32</td>\n",
       "    </tr>\n",
       "    <tr>\n",
       "      <td>5</td>\n",
       "      <td>0.389261</td>\n",
       "      <td>0.170585</td>\n",
       "      <td>0.938931</td>\n",
       "      <td>0.061069</td>\n",
       "      <td>07:31</td>\n",
       "    </tr>\n",
       "    <tr>\n",
       "      <td>6</td>\n",
       "      <td>0.310318</td>\n",
       "      <td>0.155273</td>\n",
       "      <td>0.942748</td>\n",
       "      <td>0.057252</td>\n",
       "      <td>07:32</td>\n",
       "    </tr>\n",
       "    <tr>\n",
       "      <td>7</td>\n",
       "      <td>0.258472</td>\n",
       "      <td>0.137824</td>\n",
       "      <td>0.950382</td>\n",
       "      <td>0.049618</td>\n",
       "      <td>07:40</td>\n",
       "    </tr>\n",
       "  </tbody>\n",
       "</table>"
      ],
      "text/plain": [
       "<IPython.core.display.HTML object>"
      ]
     },
     "metadata": {},
     "output_type": "display_data"
    },
    {
     "data": {
      "text/html": [],
      "text/plain": [
       "<IPython.core.display.HTML object>"
      ]
     },
     "metadata": {},
     "output_type": "display_data"
    },
    {
     "data": {
      "text/html": [
       "\n",
       "    <div>\n",
       "        <style>\n",
       "            /* Turns off some styling */\n",
       "            progress {\n",
       "                /* gets rid of default border in Firefox and Opera. */\n",
       "                border: none;\n",
       "                /* Needs to be in here for Safari polyfill so background images work as expected. */\n",
       "                background-size: auto;\n",
       "            }\n",
       "            .progress-bar-interrupted, .progress-bar-interrupted::-webkit-progress-bar {\n",
       "                background: #F44336;\n",
       "            }\n",
       "        </style>\n",
       "      <progress value='4' class='' max='7', style='width:300px; height:20px; vertical-align: middle;'></progress>\n",
       "      57.14% [4/7 33:23<25:02]\n",
       "    </div>\n",
       "    \n",
       "<table border=\"1\" class=\"dataframe\">\n",
       "  <thead>\n",
       "    <tr style=\"text-align: left;\">\n",
       "      <th>epoch</th>\n",
       "      <th>train_loss</th>\n",
       "      <th>valid_loss</th>\n",
       "      <th>accuracy</th>\n",
       "      <th>error_rate</th>\n",
       "      <th>time</th>\n",
       "    </tr>\n",
       "  </thead>\n",
       "  <tbody>\n",
       "    <tr>\n",
       "      <td>0</td>\n",
       "      <td>0.148006</td>\n",
       "      <td>#na#</td>\n",
       "      <td>08:31</td>\n",
       "    </tr>\n",
       "    <tr>\n",
       "      <td>1</td>\n",
       "      <td>0.138503</td>\n",
       "      <td>#na#</td>\n",
       "      <td>08:17</td>\n",
       "    </tr>\n",
       "    <tr>\n",
       "      <td>2</td>\n",
       "      <td>0.138189</td>\n",
       "      <td>#na#</td>\n",
       "      <td>08:17</td>\n",
       "    </tr>\n",
       "    <tr>\n",
       "      <td>3</td>\n",
       "      <td>0.263755</td>\n",
       "      <td>#na#</td>\n",
       "      <td>08:16</td>\n",
       "    </tr>\n",
       "  </tbody>\n",
       "</table><p>\n",
       "\n",
       "    <div>\n",
       "        <style>\n",
       "            /* Turns off some styling */\n",
       "            progress {\n",
       "                /* gets rid of default border in Firefox and Opera. */\n",
       "                border: none;\n",
       "                /* Needs to be in here for Safari polyfill so background images work as expected. */\n",
       "                background-size: auto;\n",
       "            }\n",
       "            .progress-bar-interrupted, .progress-bar-interrupted::-webkit-progress-bar {\n",
       "                background: #F44336;\n",
       "            }\n",
       "        </style>\n",
       "      <progress value='10' class='' max='16', style='width:300px; height:20px; vertical-align: middle;'></progress>\n",
       "      62.50% [10/16 05:12<03:07 0.3264]\n",
       "    </div>\n",
       "    "
      ],
      "text/plain": [
       "<IPython.core.display.HTML object>"
      ]
     },
     "metadata": {},
     "output_type": "display_data"
    },
    {
     "name": "stdout",
     "output_type": "stream",
     "text": [
      "LR Finder is complete, type {learner_name}.recorder.plot() to see the graph.\n"
     ]
    },
    {
     "data": {
      "text/html": [
       "<table border=\"1\" class=\"dataframe\">\n",
       "  <thead>\n",
       "    <tr style=\"text-align: left;\">\n",
       "      <th>epoch</th>\n",
       "      <th>train_loss</th>\n",
       "      <th>valid_loss</th>\n",
       "      <th>accuracy</th>\n",
       "      <th>error_rate</th>\n",
       "      <th>time</th>\n",
       "    </tr>\n",
       "  </thead>\n",
       "  <tbody>\n",
       "    <tr>\n",
       "      <td>0</td>\n",
       "      <td>0.163442</td>\n",
       "      <td>0.136667</td>\n",
       "      <td>0.958015</td>\n",
       "      <td>0.041985</td>\n",
       "      <td>09:04</td>\n",
       "    </tr>\n",
       "    <tr>\n",
       "      <td>1</td>\n",
       "      <td>0.135606</td>\n",
       "      <td>0.128543</td>\n",
       "      <td>0.950382</td>\n",
       "      <td>0.049618</td>\n",
       "      <td>09:08</td>\n",
       "    </tr>\n",
       "    <tr>\n",
       "      <td>2</td>\n",
       "      <td>0.126562</td>\n",
       "      <td>0.128060</td>\n",
       "      <td>0.950382</td>\n",
       "      <td>0.049618</td>\n",
       "      <td>09:20</td>\n",
       "    </tr>\n",
       "  </tbody>\n",
       "</table>"
      ],
      "text/plain": [
       "<IPython.core.display.HTML object>"
      ]
     },
     "metadata": {},
     "output_type": "display_data"
    },
    {
     "data": {
      "text/html": [],
      "text/plain": [
       "<IPython.core.display.HTML object>"
      ]
     },
     "metadata": {},
     "output_type": "display_data"
    },
    {
     "data": {
      "image/png": "[encoded data removed]",
      "text/plain": [
       "<Figure size 360x360 with 1 Axes>"
      ]
     },
     "metadata": {
      "needs_background": "light"
     },
     "output_type": "display_data"
    },
    {
     "data": {
      "image/png": "[encoded data removed]",
      "text/plain": [
       "<Figure size 432x288 with 1 Axes>"
      ]
     },
     "metadata": {
      "needs_background": "light"
     },
     "output_type": "display_data"
    },
    {
     "data": {
      "image/png": "[encoded data removed]",
      "text/plain": [
       "<Figure size 360x360 with 1 Axes>"
      ]
     },
     "metadata": {
      "needs_background": "light"
     },
     "output_type": "display_data"
    }
   ],
   "source": [
    "# Validation set: measles_img[0:cut_point_m[0]] + not_measles_img[0:cut_point_n[0]]\n",
    "# Training set: not_measles_img + measles_img - Validation set\n",
    "    \n",
    "prepare_img_files(0, cut_point_m[0], 0, cut_point_n[0])\n",
    "\n",
    "np.random.seed(42)\n",
    "model_training(1)"
   ]
  },
  {
   "cell_type": "markdown",
   "metadata": {},
   "source": [
    "## Second iteration of cross validation"
   ]
  },
  {
   "cell_type": "code",
   "execution_count": 30,
   "metadata": {},
   "outputs": [
    {
     "name": "stdout",
     "output_type": "stream",
     "text": [
      "/home/temp/Documents/images_corrected_no_classes/valid/Measles\n",
      "/home/temp/Documents/images_corrected_no_classes/valid/Not_Measles\n",
      "/home/temp/Documents/images_corrected_no_classes/train/Measles\n",
      "/home/temp/Documents/images_corrected_no_classes/train/Measles\n",
      "/home/temp/Documents/images_corrected_no_classes/train/Not_Measles\n",
      "/home/temp/Documents/images_corrected_no_classes/train/Not_Measles\n"
     ]
    },
    {
     "data": {
      "text/html": [
       "<table border=\"1\" class=\"dataframe\">\n",
       "  <thead>\n",
       "    <tr style=\"text-align: left;\">\n",
       "      <th>epoch</th>\n",
       "      <th>train_loss</th>\n",
       "      <th>valid_loss</th>\n",
       "      <th>accuracy</th>\n",
       "      <th>error_rate</th>\n",
       "      <th>time</th>\n",
       "    </tr>\n",
       "  </thead>\n",
       "  <tbody>\n",
       "    <tr>\n",
       "      <td>0</td>\n",
       "      <td>1.142989</td>\n",
       "      <td>0.752734</td>\n",
       "      <td>0.662879</td>\n",
       "      <td>0.337121</td>\n",
       "      <td>07:32</td>\n",
       "    </tr>\n",
       "    <tr>\n",
       "      <td>1</td>\n",
       "      <td>0.976955</td>\n",
       "      <td>0.630469</td>\n",
       "      <td>0.753788</td>\n",
       "      <td>0.246212</td>\n",
       "      <td>07:32</td>\n",
       "    </tr>\n",
       "    <tr>\n",
       "      <td>2</td>\n",
       "      <td>0.763586</td>\n",
       "      <td>0.385744</td>\n",
       "      <td>0.878788</td>\n",
       "      <td>0.121212</td>\n",
       "      <td>07:33</td>\n",
       "    </tr>\n",
       "    <tr>\n",
       "      <td>3</td>\n",
       "      <td>0.606462</td>\n",
       "      <td>0.186420</td>\n",
       "      <td>0.939394</td>\n",
       "      <td>0.060606</td>\n",
       "      <td>07:33</td>\n",
       "    </tr>\n",
       "    <tr>\n",
       "      <td>4</td>\n",
       "      <td>0.475352</td>\n",
       "      <td>0.181834</td>\n",
       "      <td>0.928030</td>\n",
       "      <td>0.071970</td>\n",
       "      <td>07:32</td>\n",
       "    </tr>\n",
       "    <tr>\n",
       "      <td>5</td>\n",
       "      <td>0.383185</td>\n",
       "      <td>0.157135</td>\n",
       "      <td>0.946970</td>\n",
       "      <td>0.053030</td>\n",
       "      <td>07:32</td>\n",
       "    </tr>\n",
       "    <tr>\n",
       "      <td>6</td>\n",
       "      <td>0.308852</td>\n",
       "      <td>0.133745</td>\n",
       "      <td>0.946970</td>\n",
       "      <td>0.053030</td>\n",
       "      <td>07:33</td>\n",
       "    </tr>\n",
       "    <tr>\n",
       "      <td>7</td>\n",
       "      <td>0.262660</td>\n",
       "      <td>0.130341</td>\n",
       "      <td>0.946970</td>\n",
       "      <td>0.053030</td>\n",
       "      <td>07:33</td>\n",
       "    </tr>\n",
       "  </tbody>\n",
       "</table>"
      ],
      "text/plain": [
       "<IPython.core.display.HTML object>"
      ]
     },
     "metadata": {},
     "output_type": "display_data"
    },
    {
     "data": {
      "text/html": [],
      "text/plain": [
       "<IPython.core.display.HTML object>"
      ]
     },
     "metadata": {},
     "output_type": "display_data"
    },
    {
     "data": {
      "text/html": [
       "\n",
       "    <div>\n",
       "        <style>\n",
       "            /* Turns off some styling */\n",
       "            progress {\n",
       "                /* gets rid of default border in Firefox and Opera. */\n",
       "                border: none;\n",
       "                /* Needs to be in here for Safari polyfill so background images work as expected. */\n",
       "                background-size: auto;\n",
       "            }\n",
       "            .progress-bar-interrupted, .progress-bar-interrupted::-webkit-progress-bar {\n",
       "                background: #F44336;\n",
       "            }\n",
       "        </style>\n",
       "      <progress value='3' class='' max='7', style='width:300px; height:20px; vertical-align: middle;'></progress>\n",
       "      42.86% [3/7 25:00<33:21]\n",
       "    </div>\n",
       "    \n",
       "<table border=\"1\" class=\"dataframe\">\n",
       "  <thead>\n",
       "    <tr style=\"text-align: left;\">\n",
       "      <th>epoch</th>\n",
       "      <th>train_loss</th>\n",
       "      <th>valid_loss</th>\n",
       "      <th>accuracy</th>\n",
       "      <th>error_rate</th>\n",
       "      <th>time</th>\n",
       "    </tr>\n",
       "  </thead>\n",
       "  <tbody>\n",
       "    <tr>\n",
       "      <td>0</td>\n",
       "      <td>0.149170</td>\n",
       "      <td>#na#</td>\n",
       "      <td>08:18</td>\n",
       "    </tr>\n",
       "    <tr>\n",
       "      <td>1</td>\n",
       "      <td>0.144542</td>\n",
       "      <td>#na#</td>\n",
       "      <td>08:21</td>\n",
       "    </tr>\n",
       "    <tr>\n",
       "      <td>2</td>\n",
       "      <td>0.128844</td>\n",
       "      <td>#na#</td>\n",
       "      <td>08:20</td>\n",
       "    </tr>\n",
       "  </tbody>\n",
       "</table><p>\n",
       "\n",
       "    <div>\n",
       "        <style>\n",
       "            /* Turns off some styling */\n",
       "            progress {\n",
       "                /* gets rid of default border in Firefox and Opera. */\n",
       "                border: none;\n",
       "                /* Needs to be in here for Safari polyfill so background images work as expected. */\n",
       "                background-size: auto;\n",
       "            }\n",
       "            .progress-bar-interrupted, .progress-bar-interrupted::-webkit-progress-bar {\n",
       "                background: #F44336;\n",
       "            }\n",
       "        </style>\n",
       "      <progress value='9' class='' max='16', style='width:300px; height:20px; vertical-align: middle;'></progress>\n",
       "      56.25% [9/16 04:40<03:37 0.2085]\n",
       "    </div>\n",
       "    "
      ],
      "text/plain": [
       "<IPython.core.display.HTML object>"
      ]
     },
     "metadata": {},
     "output_type": "display_data"
    },
    {
     "name": "stdout",
     "output_type": "stream",
     "text": [
      "LR Finder is complete, type {learner_name}.recorder.plot() to see the graph.\n"
     ]
    },
    {
     "data": {
      "text/html": [
       "<table border=\"1\" class=\"dataframe\">\n",
       "  <thead>\n",
       "    <tr style=\"text-align: left;\">\n",
       "      <th>epoch</th>\n",
       "      <th>train_loss</th>\n",
       "      <th>valid_loss</th>\n",
       "      <th>accuracy</th>\n",
       "      <th>error_rate</th>\n",
       "      <th>time</th>\n",
       "    </tr>\n",
       "  </thead>\n",
       "  <tbody>\n",
       "    <tr>\n",
       "      <td>0</td>\n",
       "      <td>0.145735</td>\n",
       "      <td>0.132654</td>\n",
       "      <td>0.950758</td>\n",
       "      <td>0.049242</td>\n",
       "      <td>09:06</td>\n",
       "    </tr>\n",
       "    <tr>\n",
       "      <td>1</td>\n",
       "      <td>0.123124</td>\n",
       "      <td>0.136543</td>\n",
       "      <td>0.954545</td>\n",
       "      <td>0.045455</td>\n",
       "      <td>09:05</td>\n",
       "    </tr>\n",
       "    <tr>\n",
       "      <td>2</td>\n",
       "      <td>0.125983</td>\n",
       "      <td>0.133046</td>\n",
       "      <td>0.950758</td>\n",
       "      <td>0.049242</td>\n",
       "      <td>09:05</td>\n",
       "    </tr>\n",
       "  </tbody>\n",
       "</table>"
      ],
      "text/plain": [
       "<IPython.core.display.HTML object>"
      ]
     },
     "metadata": {},
     "output_type": "display_data"
    },
    {
     "data": {
      "text/html": [],
      "text/plain": [
       "<IPython.core.display.HTML object>"
      ]
     },
     "metadata": {},
     "output_type": "display_data"
    },
    {
     "data": {
      "image/png": "[encoded data removed]",
      "text/plain": [
       "<Figure size 360x360 with 1 Axes>"
      ]
     },
     "metadata": {
      "needs_background": "light"
     },
     "output_type": "display_data"
    },
    {
     "data": {
      "image/png": "[encoded data removed]",
      "text/plain": [
       "<Figure size 432x288 with 1 Axes>"
      ]
     },
     "metadata": {
      "needs_background": "light"
     },
     "output_type": "display_data"
    },
    {
     "data": {
      "image/png": "[encoded data removed]",
      "text/plain": [
       "<Figure size 360x360 with 1 Axes>"
      ]
     },
     "metadata": {
      "needs_background": "light"
     },
     "output_type": "display_data"
    }
   ],
   "source": [
    "# Validation set: not_measles_img[cut_point_n[0]:cut_point_n[1]] + measles_img[cut_point_m[0]:cut_point_m[1]]\n",
    "# Traing set: not_measles_img + measles_img - Validation set\n",
    "   \n",
    "prepare_img_files(cut_point_m[0], cut_point_m[1], cut_point_n[0], cut_point_n[1])\n",
    "\n",
    "model_training(2)"
   ]
  },
  {
   "cell_type": "markdown",
   "metadata": {},
   "source": [
    "## Third iteration of cross validation"
   ]
  },
  {
   "cell_type": "code",
   "execution_count": 31,
   "metadata": {},
   "outputs": [
    {
     "name": "stdout",
     "output_type": "stream",
     "text": [
      "/home/temp/Documents/images_corrected_no_classes/valid/Measles\n",
      "/home/temp/Documents/images_corrected_no_classes/valid/Not_Measles\n",
      "/home/temp/Documents/images_corrected_no_classes/train/Measles\n",
      "/home/temp/Documents/images_corrected_no_classes/train/Measles\n",
      "/home/temp/Documents/images_corrected_no_classes/train/Not_Measles\n",
      "/home/temp/Documents/images_corrected_no_classes/train/Not_Measles\n"
     ]
    },
    {
     "data": {
      "text/html": [
       "<table border=\"1\" class=\"dataframe\">\n",
       "  <thead>\n",
       "    <tr style=\"text-align: left;\">\n",
       "      <th>epoch</th>\n",
       "      <th>train_loss</th>\n",
       "      <th>valid_loss</th>\n",
       "      <th>accuracy</th>\n",
       "      <th>error_rate</th>\n",
       "      <th>time</th>\n",
       "    </tr>\n",
       "  </thead>\n",
       "  <tbody>\n",
       "    <tr>\n",
       "      <td>0</td>\n",
       "      <td>1.261727</td>\n",
       "      <td>0.683654</td>\n",
       "      <td>0.717557</td>\n",
       "      <td>0.282443</td>\n",
       "      <td>07:33</td>\n",
       "    </tr>\n",
       "    <tr>\n",
       "      <td>1</td>\n",
       "      <td>1.111549</td>\n",
       "      <td>0.707645</td>\n",
       "      <td>0.782443</td>\n",
       "      <td>0.217557</td>\n",
       "      <td>07:38</td>\n",
       "    </tr>\n",
       "    <tr>\n",
       "      <td>2</td>\n",
       "      <td>0.862197</td>\n",
       "      <td>0.301845</td>\n",
       "      <td>0.854962</td>\n",
       "      <td>0.145038</td>\n",
       "      <td>07:33</td>\n",
       "    </tr>\n",
       "    <tr>\n",
       "      <td>3</td>\n",
       "      <td>0.653772</td>\n",
       "      <td>0.190069</td>\n",
       "      <td>0.931298</td>\n",
       "      <td>0.068702</td>\n",
       "      <td>07:33</td>\n",
       "    </tr>\n",
       "    <tr>\n",
       "      <td>4</td>\n",
       "      <td>0.507161</td>\n",
       "      <td>0.157466</td>\n",
       "      <td>0.950382</td>\n",
       "      <td>0.049618</td>\n",
       "      <td>07:32</td>\n",
       "    </tr>\n",
       "    <tr>\n",
       "      <td>5</td>\n",
       "      <td>0.399961</td>\n",
       "      <td>0.137364</td>\n",
       "      <td>0.954198</td>\n",
       "      <td>0.045802</td>\n",
       "      <td>07:33</td>\n",
       "    </tr>\n",
       "    <tr>\n",
       "      <td>6</td>\n",
       "      <td>0.325156</td>\n",
       "      <td>0.138638</td>\n",
       "      <td>0.950382</td>\n",
       "      <td>0.049618</td>\n",
       "      <td>07:33</td>\n",
       "    </tr>\n",
       "    <tr>\n",
       "      <td>7</td>\n",
       "      <td>0.269369</td>\n",
       "      <td>0.139029</td>\n",
       "      <td>0.950382</td>\n",
       "      <td>0.049618</td>\n",
       "      <td>07:33</td>\n",
       "    </tr>\n",
       "  </tbody>\n",
       "</table>"
      ],
      "text/plain": [
       "<IPython.core.display.HTML object>"
      ]
     },
     "metadata": {},
     "output_type": "display_data"
    },
    {
     "data": {
      "text/html": [],
      "text/plain": [
       "<IPython.core.display.HTML object>"
      ]
     },
     "metadata": {},
     "output_type": "display_data"
    },
    {
     "data": {
      "text/html": [
       "\n",
       "    <div>\n",
       "        <style>\n",
       "            /* Turns off some styling */\n",
       "            progress {\n",
       "                /* gets rid of default border in Firefox and Opera. */\n",
       "                border: none;\n",
       "                /* Needs to be in here for Safari polyfill so background images work as expected. */\n",
       "                background-size: auto;\n",
       "            }\n",
       "            .progress-bar-interrupted, .progress-bar-interrupted::-webkit-progress-bar {\n",
       "                background: #F44336;\n",
       "            }\n",
       "        </style>\n",
       "      <progress value='4' class='' max='7', style='width:300px; height:20px; vertical-align: middle;'></progress>\n",
       "      57.14% [4/7 33:11<24:53]\n",
       "    </div>\n",
       "    \n",
       "<table border=\"1\" class=\"dataframe\">\n",
       "  <thead>\n",
       "    <tr style=\"text-align: left;\">\n",
       "      <th>epoch</th>\n",
       "      <th>train_loss</th>\n",
       "      <th>valid_loss</th>\n",
       "      <th>accuracy</th>\n",
       "      <th>error_rate</th>\n",
       "      <th>time</th>\n",
       "    </tr>\n",
       "  </thead>\n",
       "  <tbody>\n",
       "    <tr>\n",
       "      <td>0</td>\n",
       "      <td>0.153936</td>\n",
       "      <td>#na#</td>\n",
       "      <td>08:18</td>\n",
       "    </tr>\n",
       "    <tr>\n",
       "      <td>1</td>\n",
       "      <td>0.158155</td>\n",
       "      <td>#na#</td>\n",
       "      <td>08:18</td>\n",
       "    </tr>\n",
       "    <tr>\n",
       "      <td>2</td>\n",
       "      <td>0.169129</td>\n",
       "      <td>#na#</td>\n",
       "      <td>08:17</td>\n",
       "    </tr>\n",
       "    <tr>\n",
       "      <td>3</td>\n",
       "      <td>0.321979</td>\n",
       "      <td>#na#</td>\n",
       "      <td>08:17</td>\n",
       "    </tr>\n",
       "  </tbody>\n",
       "</table><p>\n",
       "\n",
       "    <div>\n",
       "        <style>\n",
       "            /* Turns off some styling */\n",
       "            progress {\n",
       "                /* gets rid of default border in Firefox and Opera. */\n",
       "                border: none;\n",
       "                /* Needs to be in here for Safari polyfill so background images work as expected. */\n",
       "                background-size: auto;\n",
       "            }\n",
       "            .progress-bar-interrupted, .progress-bar-interrupted::-webkit-progress-bar {\n",
       "                background: #F44336;\n",
       "            }\n",
       "        </style>\n",
       "      <progress value='15' class='' max='16', style='width:300px; height:20px; vertical-align: middle;'></progress>\n",
       "      93.75% [15/16 07:58<00:31 0.5158]\n",
       "    </div>\n",
       "    "
      ],
      "text/plain": [
       "<IPython.core.display.HTML object>"
      ]
     },
     "metadata": {},
     "output_type": "display_data"
    },
    {
     "name": "stdout",
     "output_type": "stream",
     "text": [
      "LR Finder is complete, type {learner_name}.recorder.plot() to see the graph.\n"
     ]
    },
    {
     "data": {
      "text/html": [
       "<table border=\"1\" class=\"dataframe\">\n",
       "  <thead>\n",
       "    <tr style=\"text-align: left;\">\n",
       "      <th>epoch</th>\n",
       "      <th>train_loss</th>\n",
       "      <th>valid_loss</th>\n",
       "      <th>accuracy</th>\n",
       "      <th>error_rate</th>\n",
       "      <th>time</th>\n",
       "    </tr>\n",
       "  </thead>\n",
       "  <tbody>\n",
       "    <tr>\n",
       "      <td>0</td>\n",
       "      <td>0.167797</td>\n",
       "      <td>0.137506</td>\n",
       "      <td>0.958015</td>\n",
       "      <td>0.041985</td>\n",
       "      <td>09:09</td>\n",
       "    </tr>\n",
       "    <tr>\n",
       "      <td>1</td>\n",
       "      <td>0.150889</td>\n",
       "      <td>0.126516</td>\n",
       "      <td>0.958015</td>\n",
       "      <td>0.041985</td>\n",
       "      <td>09:06</td>\n",
       "    </tr>\n",
       "    <tr>\n",
       "      <td>2</td>\n",
       "      <td>0.139489</td>\n",
       "      <td>0.127173</td>\n",
       "      <td>0.961832</td>\n",
       "      <td>0.038168</td>\n",
       "      <td>09:09</td>\n",
       "    </tr>\n",
       "  </tbody>\n",
       "</table>"
      ],
      "text/plain": [
       "<IPython.core.display.HTML object>"
      ]
     },
     "metadata": {},
     "output_type": "display_data"
    },
    {
     "data": {
      "text/html": [],
      "text/plain": [
       "<IPython.core.display.HTML object>"
      ]
     },
     "metadata": {},
     "output_type": "display_data"
    },
    {
     "data": {
      "image/png": "[encoded data removed]",
      "text/plain": [
       "<Figure size 360x360 with 1 Axes>"
      ]
     },
     "metadata": {
      "needs_background": "light"
     },
     "output_type": "display_data"
    },
    {
     "data": {
      "image/png": "[encoded data removed]",
      "text/plain": [
       "<Figure size 432x288 with 1 Axes>"
      ]
     },
     "metadata": {
      "needs_background": "light"
     },
     "output_type": "display_data"
    },
    {
     "data": {
      "image/png": "[encoded data removed]",
      "text/plain": [
       "<Figure size 360x360 with 1 Axes>"
      ]
     },
     "metadata": {
      "needs_background": "light"
     },
     "output_type": "display_data"
    }
   ],
   "source": [
    "# Validation set: not_measles_img[cut_point_n[1]:cut_point_n[2]] + measles_img[cut_point_m[1]:cut_point_m[2]]\n",
    "# Traing set: not_measles_img + measles_img - Validation set\n",
    "    \n",
    "prepare_img_files(cut_point_m[1], cut_point_m[2], cut_point_n[1], cut_point_n[2])\n",
    "\n",
    "model_training(3)"
   ]
  },
  {
   "cell_type": "markdown",
   "metadata": {},
   "source": [
    "## Fourth iteration of cross validation"
   ]
  },
  {
   "cell_type": "code",
   "execution_count": 32,
   "metadata": {},
   "outputs": [
    {
     "name": "stdout",
     "output_type": "stream",
     "text": [
      "/home/temp/Documents/images_corrected_no_classes/valid/Measles\n",
      "/home/temp/Documents/images_corrected_no_classes/valid/Not_Measles\n",
      "/home/temp/Documents/images_corrected_no_classes/train/Measles\n",
      "/home/temp/Documents/images_corrected_no_classes/train/Measles\n",
      "/home/temp/Documents/images_corrected_no_classes/train/Not_Measles\n",
      "/home/temp/Documents/images_corrected_no_classes/train/Not_Measles\n"
     ]
    },
    {
     "data": {
      "text/html": [
       "<table border=\"1\" class=\"dataframe\">\n",
       "  <thead>\n",
       "    <tr style=\"text-align: left;\">\n",
       "      <th>epoch</th>\n",
       "      <th>train_loss</th>\n",
       "      <th>valid_loss</th>\n",
       "      <th>accuracy</th>\n",
       "      <th>error_rate</th>\n",
       "      <th>time</th>\n",
       "    </tr>\n",
       "  </thead>\n",
       "  <tbody>\n",
       "    <tr>\n",
       "      <td>0</td>\n",
       "      <td>1.170413</td>\n",
       "      <td>1.118624</td>\n",
       "      <td>0.583333</td>\n",
       "      <td>0.416667</td>\n",
       "      <td>07:36</td>\n",
       "    </tr>\n",
       "    <tr>\n",
       "      <td>1</td>\n",
       "      <td>1.008783</td>\n",
       "      <td>0.666770</td>\n",
       "      <td>0.712121</td>\n",
       "      <td>0.287879</td>\n",
       "      <td>07:34</td>\n",
       "    </tr>\n",
       "    <tr>\n",
       "      <td>2</td>\n",
       "      <td>0.797590</td>\n",
       "      <td>0.509419</td>\n",
       "      <td>0.814394</td>\n",
       "      <td>0.185606</td>\n",
       "      <td>07:34</td>\n",
       "    </tr>\n",
       "    <tr>\n",
       "      <td>3</td>\n",
       "      <td>0.615230</td>\n",
       "      <td>0.377260</td>\n",
       "      <td>0.867424</td>\n",
       "      <td>0.132576</td>\n",
       "      <td>07:46</td>\n",
       "    </tr>\n",
       "    <tr>\n",
       "      <td>4</td>\n",
       "      <td>0.491609</td>\n",
       "      <td>0.304035</td>\n",
       "      <td>0.893939</td>\n",
       "      <td>0.106061</td>\n",
       "      <td>07:35</td>\n",
       "    </tr>\n",
       "    <tr>\n",
       "      <td>5</td>\n",
       "      <td>0.384632</td>\n",
       "      <td>0.219519</td>\n",
       "      <td>0.916667</td>\n",
       "      <td>0.083333</td>\n",
       "      <td>07:34</td>\n",
       "    </tr>\n",
       "    <tr>\n",
       "      <td>6</td>\n",
       "      <td>0.313101</td>\n",
       "      <td>0.199272</td>\n",
       "      <td>0.939394</td>\n",
       "      <td>0.060606</td>\n",
       "      <td>07:34</td>\n",
       "    </tr>\n",
       "    <tr>\n",
       "      <td>7</td>\n",
       "      <td>0.264244</td>\n",
       "      <td>0.194553</td>\n",
       "      <td>0.943182</td>\n",
       "      <td>0.056818</td>\n",
       "      <td>07:34</td>\n",
       "    </tr>\n",
       "  </tbody>\n",
       "</table>"
      ],
      "text/plain": [
       "<IPython.core.display.HTML object>"
      ]
     },
     "metadata": {},
     "output_type": "display_data"
    },
    {
     "data": {
      "text/html": [],
      "text/plain": [
       "<IPython.core.display.HTML object>"
      ]
     },
     "metadata": {},
     "output_type": "display_data"
    },
    {
     "data": {
      "text/html": [
       "\n",
       "    <div>\n",
       "        <style>\n",
       "            /* Turns off some styling */\n",
       "            progress {\n",
       "                /* gets rid of default border in Firefox and Opera. */\n",
       "                border: none;\n",
       "                /* Needs to be in here for Safari polyfill so background images work as expected. */\n",
       "                background-size: auto;\n",
       "            }\n",
       "            .progress-bar-interrupted, .progress-bar-interrupted::-webkit-progress-bar {\n",
       "                background: #F44336;\n",
       "            }\n",
       "        </style>\n",
       "      <progress value='5' class='' max='7', style='width:300px; height:20px; vertical-align: middle;'></progress>\n",
       "      71.43% [5/7 41:28<16:35]\n",
       "    </div>\n",
       "    \n",
       "<table border=\"1\" class=\"dataframe\">\n",
       "  <thead>\n",
       "    <tr style=\"text-align: left;\">\n",
       "      <th>epoch</th>\n",
       "      <th>train_loss</th>\n",
       "      <th>valid_loss</th>\n",
       "      <th>accuracy</th>\n",
       "      <th>error_rate</th>\n",
       "      <th>time</th>\n",
       "    </tr>\n",
       "  </thead>\n",
       "  <tbody>\n",
       "    <tr>\n",
       "      <td>0</td>\n",
       "      <td>0.155902</td>\n",
       "      <td>#na#</td>\n",
       "      <td>08:18</td>\n",
       "    </tr>\n",
       "    <tr>\n",
       "      <td>1</td>\n",
       "      <td>0.149441</td>\n",
       "      <td>#na#</td>\n",
       "      <td>08:17</td>\n",
       "    </tr>\n",
       "    <tr>\n",
       "      <td>2</td>\n",
       "      <td>0.151817</td>\n",
       "      <td>#na#</td>\n",
       "      <td>08:16</td>\n",
       "    </tr>\n",
       "    <tr>\n",
       "      <td>3</td>\n",
       "      <td>0.259383</td>\n",
       "      <td>#na#</td>\n",
       "      <td>08:17</td>\n",
       "    </tr>\n",
       "    <tr>\n",
       "      <td>4</td>\n",
       "      <td>0.459435</td>\n",
       "      <td>#na#</td>\n",
       "      <td>08:17</td>\n",
       "    </tr>\n",
       "  </tbody>\n",
       "</table><p>\n",
       "\n",
       "    <div>\n",
       "        <style>\n",
       "            /* Turns off some styling */\n",
       "            progress {\n",
       "                /* gets rid of default border in Firefox and Opera. */\n",
       "                border: none;\n",
       "                /* Needs to be in here for Safari polyfill so background images work as expected. */\n",
       "                background-size: auto;\n",
       "            }\n",
       "            .progress-bar-interrupted, .progress-bar-interrupted::-webkit-progress-bar {\n",
       "                background: #F44336;\n",
       "            }\n",
       "        </style>\n",
       "      <progress value='0' class='' max='16', style='width:300px; height:20px; vertical-align: middle;'></progress>\n",
       "      0.00% [0/16 00:00<00:00]\n",
       "    </div>\n",
       "    "
      ],
      "text/plain": [
       "<IPython.core.display.HTML object>"
      ]
     },
     "metadata": {},
     "output_type": "display_data"
    },
    {
     "name": "stdout",
     "output_type": "stream",
     "text": [
      "LR Finder is complete, type {learner_name}.recorder.plot() to see the graph.\n"
     ]
    },
    {
     "data": {
      "text/html": [
       "<table border=\"1\" class=\"dataframe\">\n",
       "  <thead>\n",
       "    <tr style=\"text-align: left;\">\n",
       "      <th>epoch</th>\n",
       "      <th>train_loss</th>\n",
       "      <th>valid_loss</th>\n",
       "      <th>accuracy</th>\n",
       "      <th>error_rate</th>\n",
       "      <th>time</th>\n",
       "    </tr>\n",
       "  </thead>\n",
       "  <tbody>\n",
       "    <tr>\n",
       "      <td>0</td>\n",
       "      <td>0.121237</td>\n",
       "      <td>0.188654</td>\n",
       "      <td>0.943182</td>\n",
       "      <td>0.056818</td>\n",
       "      <td>09:12</td>\n",
       "    </tr>\n",
       "    <tr>\n",
       "      <td>1</td>\n",
       "      <td>0.125963</td>\n",
       "      <td>0.184566</td>\n",
       "      <td>0.939394</td>\n",
       "      <td>0.060606</td>\n",
       "      <td>09:09</td>\n",
       "    </tr>\n",
       "    <tr>\n",
       "      <td>2</td>\n",
       "      <td>0.128972</td>\n",
       "      <td>0.182261</td>\n",
       "      <td>0.931818</td>\n",
       "      <td>0.068182</td>\n",
       "      <td>09:06</td>\n",
       "    </tr>\n",
       "  </tbody>\n",
       "</table>"
      ],
      "text/plain": [
       "<IPython.core.display.HTML object>"
      ]
     },
     "metadata": {},
     "output_type": "display_data"
    },
    {
     "data": {
      "text/html": [],
      "text/plain": [
       "<IPython.core.display.HTML object>"
      ]
     },
     "metadata": {},
     "output_type": "display_data"
    },
    {
     "data": {
      "image/png": "[encoded data removed]",
      "text/plain": [
       "<Figure size 360x360 with 1 Axes>"
      ]
     },
     "metadata": {
      "needs_background": "light"
     },
     "output_type": "display_data"
    },
    {
     "data": {
      "image/png": "[encoded data removed]",
      "text/plain": [
       "<Figure size 432x288 with 1 Axes>"
      ]
     },
     "metadata": {
      "needs_background": "light"
     },
     "output_type": "display_data"
    },
    {
     "data": {
      "image/png": "[encoded data removed]",
      "text/plain": [
       "<Figure size 360x360 with 1 Axes>"
      ]
     },
     "metadata": {
      "needs_background": "light"
     },
     "output_type": "display_data"
    }
   ],
   "source": [
    "# Validation set: not_measles_img[cut_point_n[2]:cut_point_n[3]] + measles_img[cut_point_m[2]:cut_point_m[3]]\n",
    "# Traing set: not_measles_img + measles_img - Validation set\n",
    "\n",
    "prepare_img_files(cut_point_m[2], cut_point_m[3], cut_point_n[2], cut_point_n[3])\n",
    "\n",
    "model_training(4)"
   ]
  },
  {
   "cell_type": "markdown",
   "metadata": {},
   "source": [
    "## Fifth iteration of cross validation"
   ]
  },
  {
   "cell_type": "code",
   "execution_count": 33,
   "metadata": {},
   "outputs": [
    {
     "name": "stdout",
     "output_type": "stream",
     "text": [
      "/home/temp/Documents/images_corrected_no_classes/valid/Measles\n",
      "/home/temp/Documents/images_corrected_no_classes/valid/Not_Measles\n",
      "/home/temp/Documents/images_corrected_no_classes/train/Measles\n",
      "/home/temp/Documents/images_corrected_no_classes/train/Not_Measles\n"
     ]
    },
    {
     "data": {
      "text/html": [
       "<table border=\"1\" class=\"dataframe\">\n",
       "  <thead>\n",
       "    <tr style=\"text-align: left;\">\n",
       "      <th>epoch</th>\n",
       "      <th>train_loss</th>\n",
       "      <th>valid_loss</th>\n",
       "      <th>accuracy</th>\n",
       "      <th>error_rate</th>\n",
       "      <th>time</th>\n",
       "    </tr>\n",
       "  </thead>\n",
       "  <tbody>\n",
       "    <tr>\n",
       "      <td>0</td>\n",
       "      <td>1.193444</td>\n",
       "      <td>0.955686</td>\n",
       "      <td>0.602273</td>\n",
       "      <td>0.397727</td>\n",
       "      <td>07:37</td>\n",
       "    </tr>\n",
       "    <tr>\n",
       "      <td>1</td>\n",
       "      <td>1.020360</td>\n",
       "      <td>0.959412</td>\n",
       "      <td>0.678030</td>\n",
       "      <td>0.321970</td>\n",
       "      <td>07:35</td>\n",
       "    </tr>\n",
       "    <tr>\n",
       "      <td>2</td>\n",
       "      <td>0.805507</td>\n",
       "      <td>0.252224</td>\n",
       "      <td>0.912879</td>\n",
       "      <td>0.087121</td>\n",
       "      <td>07:35</td>\n",
       "    </tr>\n",
       "    <tr>\n",
       "      <td>3</td>\n",
       "      <td>0.633879</td>\n",
       "      <td>0.232602</td>\n",
       "      <td>0.912879</td>\n",
       "      <td>0.087121</td>\n",
       "      <td>07:34</td>\n",
       "    </tr>\n",
       "    <tr>\n",
       "      <td>4</td>\n",
       "      <td>0.494187</td>\n",
       "      <td>0.224507</td>\n",
       "      <td>0.920455</td>\n",
       "      <td>0.079545</td>\n",
       "      <td>07:36</td>\n",
       "    </tr>\n",
       "    <tr>\n",
       "      <td>5</td>\n",
       "      <td>0.397417</td>\n",
       "      <td>0.161579</td>\n",
       "      <td>0.946970</td>\n",
       "      <td>0.053030</td>\n",
       "      <td>07:35</td>\n",
       "    </tr>\n",
       "    <tr>\n",
       "      <td>6</td>\n",
       "      <td>0.317304</td>\n",
       "      <td>0.143670</td>\n",
       "      <td>0.946970</td>\n",
       "      <td>0.053030</td>\n",
       "      <td>07:36</td>\n",
       "    </tr>\n",
       "    <tr>\n",
       "      <td>7</td>\n",
       "      <td>0.266629</td>\n",
       "      <td>0.142249</td>\n",
       "      <td>0.946970</td>\n",
       "      <td>0.053030</td>\n",
       "      <td>07:34</td>\n",
       "    </tr>\n",
       "  </tbody>\n",
       "</table>"
      ],
      "text/plain": [
       "<IPython.core.display.HTML object>"
      ]
     },
     "metadata": {},
     "output_type": "display_data"
    },
    {
     "data": {
      "text/html": [],
      "text/plain": [
       "<IPython.core.display.HTML object>"
      ]
     },
     "metadata": {},
     "output_type": "display_data"
    },
    {
     "data": {
      "text/html": [
       "\n",
       "    <div>\n",
       "        <style>\n",
       "            /* Turns off some styling */\n",
       "            progress {\n",
       "                /* gets rid of default border in Firefox and Opera. */\n",
       "                border: none;\n",
       "                /* Needs to be in here for Safari polyfill so background images work as expected. */\n",
       "                background-size: auto;\n",
       "            }\n",
       "            .progress-bar-interrupted, .progress-bar-interrupted::-webkit-progress-bar {\n",
       "                background: #F44336;\n",
       "            }\n",
       "        </style>\n",
       "      <progress value='4' class='' max='7', style='width:300px; height:20px; vertical-align: middle;'></progress>\n",
       "      57.14% [4/7 33:09<24:52]\n",
       "    </div>\n",
       "    \n",
       "<table border=\"1\" class=\"dataframe\">\n",
       "  <thead>\n",
       "    <tr style=\"text-align: left;\">\n",
       "      <th>epoch</th>\n",
       "      <th>train_loss</th>\n",
       "      <th>valid_loss</th>\n",
       "      <th>accuracy</th>\n",
       "      <th>error_rate</th>\n",
       "      <th>time</th>\n",
       "    </tr>\n",
       "  </thead>\n",
       "  <tbody>\n",
       "    <tr>\n",
       "      <td>0</td>\n",
       "      <td>0.142641</td>\n",
       "      <td>#na#</td>\n",
       "      <td>08:18</td>\n",
       "    </tr>\n",
       "    <tr>\n",
       "      <td>1</td>\n",
       "      <td>0.139453</td>\n",
       "      <td>#na#</td>\n",
       "      <td>08:16</td>\n",
       "    </tr>\n",
       "    <tr>\n",
       "      <td>2</td>\n",
       "      <td>0.161139</td>\n",
       "      <td>#na#</td>\n",
       "      <td>08:17</td>\n",
       "    </tr>\n",
       "    <tr>\n",
       "      <td>3</td>\n",
       "      <td>0.314982</td>\n",
       "      <td>#na#</td>\n",
       "      <td>08:17</td>\n",
       "    </tr>\n",
       "  </tbody>\n",
       "</table><p>\n",
       "\n",
       "    <div>\n",
       "        <style>\n",
       "            /* Turns off some styling */\n",
       "            progress {\n",
       "                /* gets rid of default border in Firefox and Opera. */\n",
       "                border: none;\n",
       "                /* Needs to be in here for Safari polyfill so background images work as expected. */\n",
       "                background-size: auto;\n",
       "            }\n",
       "            .progress-bar-interrupted, .progress-bar-interrupted::-webkit-progress-bar {\n",
       "                background: #F44336;\n",
       "            }\n",
       "        </style>\n",
       "      <progress value='15' class='' max='16', style='width:300px; height:20px; vertical-align: middle;'></progress>\n",
       "      93.75% [15/16 07:46<00:31 0.4909]\n",
       "    </div>\n",
       "    "
      ],
      "text/plain": [
       "<IPython.core.display.HTML object>"
      ]
     },
     "metadata": {},
     "output_type": "display_data"
    },
    {
     "name": "stdout",
     "output_type": "stream",
     "text": [
      "LR Finder is complete, type {learner_name}.recorder.plot() to see the graph.\n"
     ]
    },
    {
     "data": {
      "text/html": [
       "<table border=\"1\" class=\"dataframe\">\n",
       "  <thead>\n",
       "    <tr style=\"text-align: left;\">\n",
       "      <th>epoch</th>\n",
       "      <th>train_loss</th>\n",
       "      <th>valid_loss</th>\n",
       "      <th>accuracy</th>\n",
       "      <th>error_rate</th>\n",
       "      <th>time</th>\n",
       "    </tr>\n",
       "  </thead>\n",
       "  <tbody>\n",
       "    <tr>\n",
       "      <td>0</td>\n",
       "      <td>0.146795</td>\n",
       "      <td>0.133536</td>\n",
       "      <td>0.946970</td>\n",
       "      <td>0.053030</td>\n",
       "      <td>09:07</td>\n",
       "    </tr>\n",
       "    <tr>\n",
       "      <td>1</td>\n",
       "      <td>0.136050</td>\n",
       "      <td>0.122046</td>\n",
       "      <td>0.969697</td>\n",
       "      <td>0.030303</td>\n",
       "      <td>09:10</td>\n",
       "    </tr>\n",
       "    <tr>\n",
       "      <td>2</td>\n",
       "      <td>0.133020</td>\n",
       "      <td>0.123912</td>\n",
       "      <td>0.965909</td>\n",
       "      <td>0.034091</td>\n",
       "      <td>09:09</td>\n",
       "    </tr>\n",
       "  </tbody>\n",
       "</table>"
      ],
      "text/plain": [
       "<IPython.core.display.HTML object>"
      ]
     },
     "metadata": {},
     "output_type": "display_data"
    },
    {
     "data": {
      "text/html": [],
      "text/plain": [
       "<IPython.core.display.HTML object>"
      ]
     },
     "metadata": {},
     "output_type": "display_data"
    },
    {
     "data": {
      "image/png": "[encoded data removed]",
      "text/plain": [
       "<Figure size 360x360 with 1 Axes>"
      ]
     },
     "metadata": {
      "needs_background": "light"
     },
     "output_type": "display_data"
    },
    {
     "data": {
      "image/png": "[encoded data removed]",
      "text/plain": [
       "<Figure size 432x288 with 1 Axes>"
      ]
     },
     "metadata": {
      "needs_background": "light"
     },
     "output_type": "display_data"
    },
    {
     "data": {
      "image/png": "[encoded data removed]",
      "text/plain": [
       "<Figure size 360x360 with 1 Axes>"
      ]
     },
     "metadata": {
      "needs_background": "light"
     },
     "output_type": "display_data"
    }
   ],
   "source": [
    "# Validation set: not_measles_img[cut_point_n[3]:len(not_measles_img)] + measles_img[cut_point_m[3]:len(measles_img)]\n",
    "# Traing set: not_measles_img + measles_img - Validation set\n",
    "\n",
    "prepare_img_files(cut_point_m[3], len(measles_img), cut_point_n[3], len(not_measles_img))\n",
    "\n",
    "model_training(5)"
   ]
  },
  {
   "cell_type": "markdown",
   "metadata": {},
   "source": [
    "## Additionaly model analysis"
   ]
  },
  {
   "cell_type": "markdown",
   "metadata": {},
   "source": [
    "With the models saved, then we can do analysis of our interest"
   ]
  },
  {
   "cell_type": "code",
   "execution_count": 1,
   "metadata": {
    "scrolled": true
   },
   "outputs": [
    {
     "ename": "NameError",
     "evalue": "name 'torch' is not defined",
     "output_type": "error",
     "traceback": [
      "\u001b[0;31m---------------------------------------------------------------------------\u001b[0m",
      "\u001b[0;31mNameError\u001b[0m                                 Traceback (most recent call last)",
      "\u001b[0;32m<ipython-input-1-687985d9e89b>\u001b[0m in \u001b[0;36m<module>\u001b[0;34m\u001b[0m\n\u001b[0;32m----> 1\u001b[0;31m \u001b[0mdefaults\u001b[0m\u001b[0;34m.\u001b[0m\u001b[0mdevice\u001b[0m \u001b[0;34m=\u001b[0m \u001b[0mtorch\u001b[0m\u001b[0;34m.\u001b[0m\u001b[0mdevice\u001b[0m\u001b[0;34m(\u001b[0m\u001b[0;34m'cpu'\u001b[0m\u001b[0;34m)\u001b[0m\u001b[0;34m\u001b[0m\u001b[0;34m\u001b[0m\u001b[0m\n\u001b[0m\u001b[1;32m      2\u001b[0m \u001b[0;34m\u001b[0m\u001b[0m\n\u001b[1;32m      3\u001b[0m \u001b[0;31m#use a test image from test file\u001b[0m\u001b[0;34m\u001b[0m\u001b[0;34m\u001b[0m\u001b[0;34m\u001b[0m\u001b[0m\n\u001b[1;32m      4\u001b[0m \u001b[0mimg\u001b[0m \u001b[0;34m=\u001b[0m \u001b[0mopen_image\u001b[0m\u001b[0;34m(\u001b[0m\u001b[0mpath\u001b[0m \u001b[0;34m+\u001b[0m \u001b[0;34m'/samples/Measles/measles(49).jpg'\u001b[0m\u001b[0;34m)\u001b[0m\u001b[0;34m\u001b[0m\u001b[0;34m\u001b[0m\u001b[0m\n\u001b[1;32m      5\u001b[0m \u001b[0mimg\u001b[0m\u001b[0;34m\u001b[0m\u001b[0;34m\u001b[0m\u001b[0m\n",
      "\u001b[0;31mNameError\u001b[0m: name 'torch' is not defined"
     ]
    }
   ],
   "source": [
    "defaults.device = torch.device('cpu')\n",
    "\n",
    "#use a test image from test file\n",
    "img = open_image(path + '/samples/Measles/measles(49).jpg')\n",
    "img\n",
    "\n",
    "mdl_idx = 1\n",
    "\n",
    "from_file = path + \"/models/export-\" + str(mdl_idx) + \".pkl\"\n",
    "to_file = path + \"/models/export.pkl\"\n",
    "!ln -s $from_file $to_file\n",
    "\n",
    "learn = load_learner(path + \"models/\")\n",
    "#pkl file\n",
    "\n",
    "pred_class,pred_idx,outputs = learn.predict(img)\n",
    "#pred_class\n",
    "\n",
    "#interp.plot_confusion_matrix(figsize=(6,6),dpi=60)\n"
   ]
  },
  {
   "cell_type": "code",
   "execution_count": null,
   "metadata": {},
   "outputs": [],
   "source": []
  }
 ],
 "metadata": {
  "kernelspec": {
   "display_name": "Python 3",
   "language": "python",
   "name": "python3"
  },
  "language_info": {
   "codemirror_mode": {
    "name": "ipython",
    "version": 3
   },
   "file_extension": ".py",
   "mimetype": "text/x-python",
   "name": "python",
   "nbconvert_exporter": "python",
   "pygments_lexer": "ipython3",
   "version": "3.7.7"
  }
 },
 "nbformat": 4,
 "nbformat_minor": 2
}
