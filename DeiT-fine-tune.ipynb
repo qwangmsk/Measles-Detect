{
 "cells": [
  {
   "attachments": {},
   "cell_type": "markdown",
   "metadata": {},
   "source": [
    "### Dataset \n",
    "The measles images used for model training are from two sources: \n",
    "1. IEEE DataPort (DOI: 10.21227/9r41-4x79) at https://ieee-dataport.org/documents/image-dataset-various-skin-conditions-and-rashes\n",
    "2. Mpox Skin Lesion Dataset Version 2.0 (MSLD v2.0) on Kaggle: https://www.kaggle.com/datasets/joydippaul/mpox-skin-lesion-dataset-version-20-msld-v20/data\n",
    "\n",
    "After combining the two datasets, our final collection comprised 2,071 skin images, including 213 depicting measles rashes. The dataset was imbalanced, with 73.6% White, ~11.2% Black or African American, ~10.6% Hispanic or Latina, ~1% Asian, and the remainder representing other minority groups, including Native Hawaiian. The current implementation did not address this imbalance, which will be remedied in the next version."
   ]
  },
  {
   "cell_type": "code",
   "execution_count": 10,
   "metadata": {},
   "outputs": [],
   "source": [
    "import os\n",
    "import glob\n",
    "import torch\n",
    "from torch import nn, optim\n",
    "from torch.utils.data import Dataset, DataLoader\n",
    "from torchvision import transforms\n",
    "from PIL import Image\n",
    "import timm\n",
    "from sklearn.model_selection import StratifiedKFold\n",
    "from sklearn.metrics import accuracy_score, precision_recall_fscore_support\n",
    "from tqdm import tqdm\n",
    "import numpy as np"
   ]
  },
  {
   "cell_type": "code",
   "execution_count": 11,
   "metadata": {},
   "outputs": [],
   "source": [
    "# Set random seed for reproducibility\n",
    "torch.manual_seed(42)\n",
    "torch.cuda.manual_seed_all(42)\n",
    "np.random.seed(42)"
   ]
  },
  {
   "cell_type": "code",
   "execution_count": 12,
   "metadata": {},
   "outputs": [
    {
     "name": "stdout",
     "output_type": "stream",
     "text": [
      "Using device: mps\n"
     ]
    }
   ],
   "source": [
    "# Config parameters\n",
    "img_size = 224\n",
    "batch_size = 32\n",
    "epochs = 30\n",
    "lr = 3e-4\n",
    "model_name = 'deit_base_patch16_224'\n",
    "data_root = 'data'\n",
    "output_dir = 'models_cv'\n",
    "os.makedirs(output_dir, exist_ok=True)\n",
    "\n",
    "device = torch.device(\"mps\" if torch.backends.mps.is_available() else \n",
    "                      \"cuda\" if torch.cuda.is_available() else \"cpu\")\n",
    "print(f\"Using device: {device}\")"
   ]
  },
  {
   "cell_type": "code",
   "execution_count": 13,
   "metadata": {},
   "outputs": [],
   "source": [
    "# Transforms\n",
    "train_transforms = transforms.Compose([\n",
    "    transforms.RandomResizedCrop(img_size, scale=(0.8, 1.0)),\n",
    "    transforms.RandomHorizontalFlip(),\n",
    "    transforms.RandomRotation(15),\n",
    "    transforms.ColorJitter(brightness=0.2, contrast=0.2),\n",
    "    transforms.ToTensor(),\n",
    "    transforms.Normalize(mean=[0.485, 0.456, 0.406],\n",
    "                         std=[0.229, 0.224, 0.225])\n",
    "])\n",
    "\n",
    "val_transforms = transforms.Compose([\n",
    "    transforms.Resize((img_size, img_size)),\n",
    "    transforms.ToTensor(),\n",
    "    transforms.Normalize(mean=[0.485, 0.456, 0.406],\n",
    "                         std=[0.229, 0.224, 0.225])\n",
    "])"
   ]
  },
  {
   "cell_type": "code",
   "execution_count": 14,
   "metadata": {},
   "outputs": [],
   "source": [
    "# Dataset\n",
    "class ImageDataset(Dataset):\n",
    "    def __init__(self, image_paths, labels, transform=None):\n",
    "        self.image_paths = image_paths\n",
    "        self.labels = labels\n",
    "        self.transform = transform\n",
    "        \n",
    "    def __len__(self):\n",
    "        return len(self.image_paths)\n",
    "    \n",
    "    def __getitem__(self, idx):\n",
    "        image = Image.open(self.image_paths[idx]).convert('RGB')\n",
    "        label = self.labels[idx]\n",
    "        if self.transform:\n",
    "            image = self.transform(image)\n",
    "        return image, label"
   ]
  },
  {
   "cell_type": "code",
   "execution_count": 15,
   "metadata": {},
   "outputs": [
    {
     "name": "stdout",
     "output_type": "stream",
     "text": [
      "Total images: 2071, Measles: 213, Non-measles: 1858\n"
     ]
    }
   ],
   "source": [
    "# ========== LOAD IMAGE PATHS AND LABELS ==========\n",
    "class_map = {'non_measles': 0, 'measles': 1}\n",
    "image_label_pairs = []\n",
    "#image_paths = []\n",
    "#labels = []\n",
    "\n",
    "for cls in class_map:\n",
    "    paths = glob.glob(os.path.join(data_root, cls, '*'))\n",
    "    image_label_pairs.extend([(p, class_map[cls]) for p in paths])\n",
    "    #image_paths.extend(paths)\n",
    "    #labels.extend([class_map[cls]] * len(paths))\n",
    "\n",
    "# Sort together to avoid misalignment\n",
    "image_label_pairs.sort(key=lambda x: x[0])\n",
    "image_paths, labels = zip(*image_label_pairs)\n",
    "labels = np.array(labels)\n",
    "#image_paths = sorted(image_paths)\n",
    "#labels = torch.tensor(labels)\n",
    "\n",
    "print(f\"Total images: {len(image_paths)}, Measles: {labels.sum().item()}, Non-measles: {(labels == 0).sum().item()}\")\n"
   ]
  },
  {
   "cell_type": "code",
   "execution_count": 16,
   "metadata": {},
   "outputs": [
    {
     "name": "stdout",
     "output_type": "stream",
     "text": [
      "\n",
      "===== Fold 1 =====\n",
      "\n",
      "Epoch 1/30\n"
     ]
    },
    {
     "name": "stderr",
     "output_type": "stream",
     "text": [
      "Training: 100%|██████████████████████████████████████████████████| 52/52 [01:10<00:00,  1.35s/it]\n",
      "Evaluating: 100%|████████████████████████████████████████████████| 13/13 [00:06<00:00,  1.97it/s]\n"
     ]
    },
    {
     "name": "stdout",
     "output_type": "stream",
     "text": [
      "\n",
      "Train Acc: 0.8847\n",
      "Val Acc: 0.9060, Precision: 0.9149, Recall: 0.9060, F1: 0.8694\n",
      "✅ Saved best model for fold 1 (F1: 0.8694)\n",
      "\n",
      "Epoch 2/30\n"
     ]
    },
    {
     "name": "stderr",
     "output_type": "stream",
     "text": [
      "Training: 100%|██████████████████████████████████████████████████| 52/52 [01:09<00:00,  1.34s/it]\n",
      "Evaluating: 100%|████████████████████████████████████████████████| 13/13 [00:06<00:00,  1.89it/s]\n"
     ]
    },
    {
     "name": "stdout",
     "output_type": "stream",
     "text": [
      "\n",
      "Train Acc: 0.8937\n",
      "Val Acc: 0.9012, Precision: 0.8854, Recall: 0.9012, F1: 0.8901\n",
      "✅ Saved best model for fold 1 (F1: 0.8901)\n",
      "\n",
      "Epoch 3/30\n"
     ]
    },
    {
     "name": "stderr",
     "output_type": "stream",
     "text": [
      "Training: 100%|██████████████████████████████████████████████████| 52/52 [01:11<00:00,  1.38s/it]\n",
      "Evaluating: 100%|████████████████████████████████████████████████| 13/13 [00:06<00:00,  1.99it/s]\n"
     ]
    },
    {
     "name": "stdout",
     "output_type": "stream",
     "text": [
      "\n",
      "Train Acc: 0.9197\n",
      "Val Acc: 0.9108, Precision: 0.8957, Recall: 0.9108, F1: 0.8920\n",
      "✅ Saved best model for fold 1 (F1: 0.8920)\n",
      "\n",
      "Epoch 4/30\n"
     ]
    },
    {
     "name": "stderr",
     "output_type": "stream",
     "text": [
      "Training: 100%|██████████████████████████████████████████████████| 52/52 [01:05<00:00,  1.27s/it]\n",
      "Evaluating: 100%|████████████████████████████████████████████████| 13/13 [00:06<00:00,  2.03it/s]\n",
      "/Users/qwang/transformer_env/lib/python3.12/site-packages/sklearn/metrics/_classification.py:1731: UndefinedMetricWarning: Precision is ill-defined and being set to 0.0 in labels with no predicted samples. Use `zero_division` parameter to control this behavior.\n",
      "  _warn_prf(average, modifier, f\"{metric.capitalize()} is\", result.shape[0])\n"
     ]
    },
    {
     "name": "stdout",
     "output_type": "stream",
     "text": [
      "\n",
      "Train Acc: 0.9233\n",
      "Val Acc: 0.8964, Precision: 0.8035, Recall: 0.8964, F1: 0.8474\n",
      "\n",
      "Epoch 5/30\n"
     ]
    },
    {
     "name": "stderr",
     "output_type": "stream",
     "text": [
      "Training: 100%|██████████████████████████████████████████████████| 52/52 [01:04<00:00,  1.25s/it]\n",
      "Evaluating: 100%|████████████████████████████████████████████████| 13/13 [00:06<00:00,  2.16it/s]\n"
     ]
    },
    {
     "name": "stdout",
     "output_type": "stream",
     "text": [
      "\n",
      "Train Acc: 0.9499\n",
      "Val Acc: 0.9229, Precision: 0.9290, Recall: 0.9229, F1: 0.9016\n",
      "✅ Saved best model for fold 1 (F1: 0.9016)\n",
      "\n",
      "Epoch 6/30\n"
     ]
    },
    {
     "name": "stderr",
     "output_type": "stream",
     "text": [
      "Training: 100%|██████████████████████████████████████████████████| 52/52 [01:05<00:00,  1.25s/it]\n",
      "Evaluating: 100%|████████████████████████████████████████████████| 13/13 [00:06<00:00,  2.10it/s]\n"
     ]
    },
    {
     "name": "stdout",
     "output_type": "stream",
     "text": [
      "\n",
      "Train Acc: 0.9475\n",
      "Val Acc: 0.9542, Precision: 0.9519, Recall: 0.9542, F1: 0.9512\n",
      "✅ Saved best model for fold 1 (F1: 0.9512)\n",
      "\n",
      "Epoch 7/30\n"
     ]
    },
    {
     "name": "stderr",
     "output_type": "stream",
     "text": [
      "Training: 100%|██████████████████████████████████████████████████| 52/52 [01:04<00:00,  1.25s/it]\n",
      "Evaluating: 100%|████████████████████████████████████████████████| 13/13 [00:06<00:00,  2.07it/s]\n"
     ]
    },
    {
     "name": "stdout",
     "output_type": "stream",
     "text": [
      "\n",
      "Train Acc: 0.9638\n",
      "Val Acc: 0.9325, Precision: 0.9264, Recall: 0.9325, F1: 0.9244\n",
      "\n",
      "Epoch 8/30\n"
     ]
    },
    {
     "name": "stderr",
     "output_type": "stream",
     "text": [
      "Training: 100%|██████████████████████████████████████████████████| 52/52 [01:05<00:00,  1.25s/it]\n",
      "Evaluating: 100%|████████████████████████████████████████████████| 13/13 [00:06<00:00,  2.12it/s]\n"
     ]
    },
    {
     "name": "stdout",
     "output_type": "stream",
     "text": [
      "\n",
      "Train Acc: 0.9692\n",
      "Val Acc: 0.9373, Precision: 0.9339, Recall: 0.9373, F1: 0.9287\n",
      "\n",
      "Epoch 9/30\n"
     ]
    },
    {
     "name": "stderr",
     "output_type": "stream",
     "text": [
      "Training: 100%|██████████████████████████████████████████████████| 52/52 [01:04<00:00,  1.23s/it]\n",
      "Evaluating: 100%|████████████████████████████████████████████████| 13/13 [00:05<00:00,  2.20it/s]\n"
     ]
    },
    {
     "name": "stdout",
     "output_type": "stream",
     "text": [
      "\n",
      "Train Acc: 0.9547\n",
      "Val Acc: 0.9398, Precision: 0.9381, Recall: 0.9398, F1: 0.9309\n",
      "\n",
      "Epoch 10/30\n"
     ]
    },
    {
     "name": "stderr",
     "output_type": "stream",
     "text": [
      "Training: 100%|██████████████████████████████████████████████████| 52/52 [01:04<00:00,  1.23s/it]\n",
      "Evaluating: 100%|████████████████████████████████████████████████| 13/13 [00:05<00:00,  2.19it/s]\n"
     ]
    },
    {
     "name": "stdout",
     "output_type": "stream",
     "text": [
      "\n",
      "Train Acc: 0.9734\n",
      "Val Acc: 0.9253, Precision: 0.9171, Recall: 0.9253, F1: 0.9143\n",
      "\n",
      "Epoch 11/30\n"
     ]
    },
    {
     "name": "stderr",
     "output_type": "stream",
     "text": [
      "Training: 100%|██████████████████████████████████████████████████| 52/52 [01:04<00:00,  1.23s/it]\n",
      "Evaluating: 100%|████████████████████████████████████████████████| 13/13 [00:05<00:00,  2.18it/s]\n"
     ]
    },
    {
     "name": "stdout",
     "output_type": "stream",
     "text": [
      "\n",
      "Train Acc: 0.9746\n",
      "Val Acc: 0.9301, Precision: 0.9340, Recall: 0.9301, F1: 0.9318\n",
      "\n",
      "Epoch 12/30\n"
     ]
    },
    {
     "name": "stderr",
     "output_type": "stream",
     "text": [
      "Training: 100%|██████████████████████████████████████████████████| 52/52 [01:04<00:00,  1.24s/it]\n",
      "Evaluating: 100%|████████████████████████████████████████████████| 13/13 [00:06<00:00,  2.14it/s]\n"
     ]
    },
    {
     "name": "stdout",
     "output_type": "stream",
     "text": [
      "\n",
      "Train Acc: 0.9783\n",
      "Val Acc: 0.9325, Precision: 0.9325, Recall: 0.9325, F1: 0.9325\n",
      "\n",
      "Epoch 13/30\n"
     ]
    },
    {
     "name": "stderr",
     "output_type": "stream",
     "text": [
      "Training: 100%|██████████████████████████████████████████████████| 52/52 [01:04<00:00,  1.25s/it]\n",
      "Evaluating: 100%|████████████████████████████████████████████████| 13/13 [00:06<00:00,  1.98it/s]\n"
     ]
    },
    {
     "name": "stdout",
     "output_type": "stream",
     "text": [
      "\n",
      "Train Acc: 0.9825\n",
      "Val Acc: 0.9277, Precision: 0.9281, Recall: 0.9277, F1: 0.9116\n",
      "\n",
      "Epoch 14/30\n"
     ]
    },
    {
     "name": "stderr",
     "output_type": "stream",
     "text": [
      "Training: 100%|██████████████████████████████████████████████████| 52/52 [01:04<00:00,  1.24s/it]\n",
      "Evaluating: 100%|████████████████████████████████████████████████| 13/13 [00:06<00:00,  2.09it/s]\n"
     ]
    },
    {
     "name": "stdout",
     "output_type": "stream",
     "text": [
      "\n",
      "Train Acc: 0.9843\n",
      "Val Acc: 0.9373, Precision: 0.9355, Recall: 0.9373, F1: 0.9275\n",
      "\n",
      "Epoch 15/30\n"
     ]
    },
    {
     "name": "stderr",
     "output_type": "stream",
     "text": [
      "Training: 100%|██████████████████████████████████████████████████| 52/52 [01:04<00:00,  1.24s/it]\n",
      "Evaluating: 100%|████████████████████████████████████████████████| 13/13 [00:06<00:00,  2.06it/s]\n"
     ]
    },
    {
     "name": "stdout",
     "output_type": "stream",
     "text": [
      "\n",
      "Train Acc: 0.9873\n",
      "Val Acc: 0.9446, Precision: 0.9408, Recall: 0.9446, F1: 0.9409\n",
      "\n",
      "Epoch 16/30\n"
     ]
    },
    {
     "name": "stderr",
     "output_type": "stream",
     "text": [
      "Training: 100%|██████████████████████████████████████████████████| 52/52 [01:05<00:00,  1.25s/it]\n",
      "Evaluating: 100%|████████████████████████████████████████████████| 13/13 [00:06<00:00,  1.96it/s]\n"
     ]
    },
    {
     "name": "stdout",
     "output_type": "stream",
     "text": [
      "\n",
      "Train Acc: 0.9891\n",
      "Val Acc: 0.9277, Precision: 0.9203, Recall: 0.9277, F1: 0.9177\n",
      "\n",
      "Epoch 17/30\n"
     ]
    },
    {
     "name": "stderr",
     "output_type": "stream",
     "text": [
      "Training: 100%|██████████████████████████████████████████████████| 52/52 [01:04<00:00,  1.24s/it]\n",
      "Evaluating: 100%|████████████████████████████████████████████████| 13/13 [00:06<00:00,  2.08it/s]\n"
     ]
    },
    {
     "name": "stdout",
     "output_type": "stream",
     "text": [
      "\n",
      "Train Acc: 0.9934\n",
      "Val Acc: 0.9349, Precision: 0.9329, Recall: 0.9349, F1: 0.9240\n",
      "\n",
      "Epoch 18/30\n"
     ]
    },
    {
     "name": "stderr",
     "output_type": "stream",
     "text": [
      "Training: 100%|██████████████████████████████████████████████████| 52/52 [01:04<00:00,  1.24s/it]\n",
      "Evaluating: 100%|████████████████████████████████████████████████| 13/13 [00:06<00:00,  2.11it/s]\n"
     ]
    },
    {
     "name": "stdout",
     "output_type": "stream",
     "text": [
      "\n",
      "Train Acc: 0.9958\n",
      "Val Acc: 0.9494, Precision: 0.9464, Recall: 0.9494, F1: 0.9461\n",
      "\n",
      "Epoch 19/30\n"
     ]
    },
    {
     "name": "stderr",
     "output_type": "stream",
     "text": [
      "Training: 100%|██████████████████████████████████████████████████| 52/52 [01:05<00:00,  1.26s/it]\n",
      "Evaluating: 100%|████████████████████████████████████████████████| 13/13 [00:06<00:00,  2.03it/s]\n"
     ]
    },
    {
     "name": "stdout",
     "output_type": "stream",
     "text": [
      "\n",
      "Train Acc: 0.9970\n",
      "Val Acc: 0.9470, Precision: 0.9444, Recall: 0.9470, F1: 0.9452\n",
      "\n",
      "Epoch 20/30\n"
     ]
    },
    {
     "name": "stderr",
     "output_type": "stream",
     "text": [
      "Training: 100%|██████████████████████████████████████████████████| 52/52 [01:06<00:00,  1.27s/it]\n",
      "Evaluating: 100%|████████████████████████████████████████████████| 13/13 [00:06<00:00,  1.93it/s]\n"
     ]
    },
    {
     "name": "stdout",
     "output_type": "stream",
     "text": [
      "\n",
      "Train Acc: 0.9982\n",
      "Val Acc: 0.9494, Precision: 0.9480, Recall: 0.9494, F1: 0.9486\n",
      "\n",
      "Epoch 21/30\n"
     ]
    },
    {
     "name": "stderr",
     "output_type": "stream",
     "text": [
      "Training: 100%|██████████████████████████████████████████████████| 52/52 [01:06<00:00,  1.28s/it]\n",
      "Evaluating: 100%|████████████████████████████████████████████████| 13/13 [00:06<00:00,  2.04it/s]\n"
     ]
    },
    {
     "name": "stdout",
     "output_type": "stream",
     "text": [
      "\n",
      "Train Acc: 0.9988\n",
      "Val Acc: 0.9470, Precision: 0.9446, Recall: 0.9470, F1: 0.9415\n",
      "\n",
      "Epoch 22/30\n"
     ]
    },
    {
     "name": "stderr",
     "output_type": "stream",
     "text": [
      "Training: 100%|██████████████████████████████████████████████████| 52/52 [01:05<00:00,  1.27s/it]\n",
      "Evaluating: 100%|████████████████████████████████████████████████| 13/13 [00:06<00:00,  2.05it/s]\n"
     ]
    },
    {
     "name": "stdout",
     "output_type": "stream",
     "text": [
      "\n",
      "Train Acc: 0.9994\n",
      "Val Acc: 0.9446, Precision: 0.9408, Recall: 0.9446, F1: 0.9401\n",
      "\n",
      "Epoch 23/30\n"
     ]
    },
    {
     "name": "stderr",
     "output_type": "stream",
     "text": [
      "Training: 100%|██████████████████████████████████████████████████| 52/52 [01:05<00:00,  1.26s/it]\n",
      "Evaluating: 100%|████████████████████████████████████████████████| 13/13 [00:06<00:00,  2.05it/s]\n"
     ]
    },
    {
     "name": "stdout",
     "output_type": "stream",
     "text": [
      "\n",
      "Train Acc: 0.9982\n",
      "Val Acc: 0.9470, Precision: 0.9436, Recall: 0.9470, F1: 0.9439\n",
      "\n",
      "Epoch 24/30\n"
     ]
    },
    {
     "name": "stderr",
     "output_type": "stream",
     "text": [
      "Training: 100%|██████████████████████████████████████████████████| 52/52 [01:05<00:00,  1.25s/it]\n",
      "Evaluating: 100%|████████████████████████████████████████████████| 13/13 [00:06<00:00,  2.06it/s]\n"
     ]
    },
    {
     "name": "stdout",
     "output_type": "stream",
     "text": [
      "\n",
      "Train Acc: 0.9994\n",
      "Val Acc: 0.9446, Precision: 0.9408, Recall: 0.9446, F1: 0.9409\n",
      "\n",
      "Epoch 25/30\n"
     ]
    },
    {
     "name": "stderr",
     "output_type": "stream",
     "text": [
      "Training: 100%|██████████████████████████████████████████████████| 52/52 [01:05<00:00,  1.26s/it]\n",
      "Evaluating: 100%|████████████████████████████████████████████████| 13/13 [00:06<00:00,  2.09it/s]\n"
     ]
    },
    {
     "name": "stdout",
     "output_type": "stream",
     "text": [
      "\n",
      "Train Acc: 0.9976\n",
      "Val Acc: 0.9446, Precision: 0.9410, Recall: 0.9446, F1: 0.9417\n",
      "\n",
      "Epoch 26/30\n"
     ]
    },
    {
     "name": "stderr",
     "output_type": "stream",
     "text": [
      "Training: 100%|██████████████████████████████████████████████████| 52/52 [01:05<00:00,  1.26s/it]\n",
      "Evaluating: 100%|████████████████████████████████████████████████| 13/13 [00:06<00:00,  2.07it/s]\n"
     ]
    },
    {
     "name": "stdout",
     "output_type": "stream",
     "text": [
      "\n",
      "Train Acc: 0.9994\n",
      "Val Acc: 0.9446, Precision: 0.9408, Recall: 0.9446, F1: 0.9409\n",
      "\n",
      "Epoch 27/30\n"
     ]
    },
    {
     "name": "stderr",
     "output_type": "stream",
     "text": [
      "Training: 100%|██████████████████████████████████████████████████| 52/52 [01:05<00:00,  1.25s/it]\n",
      "Evaluating: 100%|████████████████████████████████████████████████| 13/13 [00:06<00:00,  2.06it/s]\n"
     ]
    },
    {
     "name": "stdout",
     "output_type": "stream",
     "text": [
      "\n",
      "Train Acc: 0.9994\n",
      "Val Acc: 0.9446, Precision: 0.9408, Recall: 0.9446, F1: 0.9409\n",
      "\n",
      "Epoch 28/30\n"
     ]
    },
    {
     "name": "stderr",
     "output_type": "stream",
     "text": [
      "Training: 100%|██████████████████████████████████████████████████| 52/52 [01:04<00:00,  1.25s/it]\n",
      "Evaluating: 100%|████████████████████████████████████████████████| 13/13 [00:06<00:00,  2.01it/s]\n"
     ]
    },
    {
     "name": "stdout",
     "output_type": "stream",
     "text": [
      "\n",
      "Train Acc: 0.9988\n",
      "Val Acc: 0.9470, Precision: 0.9436, Recall: 0.9470, F1: 0.9431\n",
      "\n",
      "Epoch 29/30\n"
     ]
    },
    {
     "name": "stderr",
     "output_type": "stream",
     "text": [
      "Training: 100%|██████████████████████████████████████████████████| 52/52 [01:05<00:00,  1.26s/it]\n",
      "Evaluating: 100%|████████████████████████████████████████████████| 13/13 [00:06<00:00,  2.07it/s]\n"
     ]
    },
    {
     "name": "stdout",
     "output_type": "stream",
     "text": [
      "\n",
      "Train Acc: 1.0000\n",
      "Val Acc: 0.9470, Precision: 0.9436, Recall: 0.9470, F1: 0.9431\n",
      "\n",
      "Epoch 30/30\n"
     ]
    },
    {
     "name": "stderr",
     "output_type": "stream",
     "text": [
      "Training: 100%|██████████████████████████████████████████████████| 52/52 [01:04<00:00,  1.25s/it]\n",
      "Evaluating: 100%|████████████████████████████████████████████████| 13/13 [00:06<00:00,  2.06it/s]\n"
     ]
    },
    {
     "name": "stdout",
     "output_type": "stream",
     "text": [
      "\n",
      "Train Acc: 1.0000\n",
      "Val Acc: 0.9470, Precision: 0.9436, Recall: 0.9470, F1: 0.9431\n",
      "\n",
      "===== Fold 2 =====\n",
      "\n",
      "Epoch 1/30\n"
     ]
    },
    {
     "name": "stderr",
     "output_type": "stream",
     "text": [
      "Training: 100%|██████████████████████████████████████████████████| 52/52 [01:04<00:00,  1.23s/it]\n",
      "Evaluating: 100%|████████████████████████████████████████████████| 13/13 [00:06<00:00,  1.96it/s]\n",
      "/Users/qwang/transformer_env/lib/python3.12/site-packages/sklearn/metrics/_classification.py:1731: UndefinedMetricWarning: Precision is ill-defined and being set to 0.0 in labels with no predicted samples. Use `zero_division` parameter to control this behavior.\n",
      "  _warn_prf(average, modifier, f\"{metric.capitalize()} is\", result.shape[0])\n"
     ]
    },
    {
     "name": "stdout",
     "output_type": "stream",
     "text": [
      "\n",
      "Train Acc: 0.8890\n",
      "Val Acc: 0.8961, Precision: 0.8031, Recall: 0.8961, F1: 0.8470\n",
      "✅ Saved best model for fold 2 (F1: 0.8470)\n",
      "\n",
      "Epoch 2/30\n"
     ]
    },
    {
     "name": "stderr",
     "output_type": "stream",
     "text": [
      "Training: 100%|██████████████████████████████████████████████████| 52/52 [01:05<00:00,  1.26s/it]\n",
      "Evaluating: 100%|████████████████████████████████████████████████| 13/13 [00:06<00:00,  1.89it/s]\n"
     ]
    },
    {
     "name": "stdout",
     "output_type": "stream",
     "text": [
      "\n",
      "Train Acc: 0.8992\n",
      "Val Acc: 0.9130, Precision: 0.9207, Recall: 0.9130, F1: 0.8838\n",
      "✅ Saved best model for fold 2 (F1: 0.8838)\n",
      "\n",
      "Epoch 3/30\n"
     ]
    },
    {
     "name": "stderr",
     "output_type": "stream",
     "text": [
      "Training: 100%|██████████████████████████████████████████████████| 52/52 [01:04<00:00,  1.25s/it]\n",
      "Evaluating: 100%|████████████████████████████████████████████████| 13/13 [00:06<00:00,  1.88it/s]\n"
     ]
    },
    {
     "name": "stdout",
     "output_type": "stream",
     "text": [
      "\n",
      "Train Acc: 0.9270\n",
      "Val Acc: 0.9106, Precision: 0.9187, Recall: 0.9106, F1: 0.8790\n",
      "\n",
      "Epoch 4/30\n"
     ]
    },
    {
     "name": "stderr",
     "output_type": "stream",
     "text": [
      "Training: 100%|██████████████████████████████████████████████████| 52/52 [01:04<00:00,  1.24s/it]\n",
      "Evaluating: 100%|████████████████████████████████████████████████| 13/13 [00:06<00:00,  1.91it/s]\n"
     ]
    },
    {
     "name": "stdout",
     "output_type": "stream",
     "text": [
      "\n",
      "Train Acc: 0.9234\n",
      "Val Acc: 0.9227, Precision: 0.9227, Recall: 0.9227, F1: 0.9035\n",
      "✅ Saved best model for fold 2 (F1: 0.9035)\n",
      "\n",
      "Epoch 5/30\n"
     ]
    },
    {
     "name": "stderr",
     "output_type": "stream",
     "text": [
      "Training: 100%|██████████████████████████████████████████████████| 52/52 [01:06<00:00,  1.28s/it]\n",
      "Evaluating: 100%|████████████████████████████████████████████████| 13/13 [00:06<00:00,  1.88it/s]\n",
      "/Users/qwang/transformer_env/lib/python3.12/site-packages/sklearn/metrics/_classification.py:1731: UndefinedMetricWarning: Precision is ill-defined and being set to 0.0 in labels with no predicted samples. Use `zero_division` parameter to control this behavior.\n",
      "  _warn_prf(average, modifier, f\"{metric.capitalize()} is\", result.shape[0])\n"
     ]
    },
    {
     "name": "stdout",
     "output_type": "stream",
     "text": [
      "\n",
      "Train Acc: 0.9439\n",
      "Val Acc: 0.8961, Precision: 0.8031, Recall: 0.8961, F1: 0.8470\n",
      "\n",
      "Epoch 6/30\n"
     ]
    },
    {
     "name": "stderr",
     "output_type": "stream",
     "text": [
      "Training: 100%|██████████████████████████████████████████████████| 52/52 [01:05<00:00,  1.26s/it]\n",
      "Evaluating: 100%|████████████████████████████████████████████████| 13/13 [00:07<00:00,  1.85it/s]\n"
     ]
    },
    {
     "name": "stdout",
     "output_type": "stream",
     "text": [
      "\n",
      "Train Acc: 0.9511\n",
      "Val Acc: 0.9251, Precision: 0.9275, Recall: 0.9251, F1: 0.9262\n",
      "✅ Saved best model for fold 2 (F1: 0.9262)\n",
      "\n",
      "Epoch 7/30\n"
     ]
    },
    {
     "name": "stderr",
     "output_type": "stream",
     "text": [
      "Training: 100%|██████████████████████████████████████████████████| 52/52 [01:02<00:00,  1.21s/it]\n",
      "Evaluating: 100%|████████████████████████████████████████████████| 13/13 [00:06<00:00,  2.02it/s]\n"
     ]
    },
    {
     "name": "stdout",
     "output_type": "stream",
     "text": [
      "\n",
      "Train Acc: 0.9487\n",
      "Val Acc: 0.8816, Precision: 0.9201, Recall: 0.8816, F1: 0.8947\n",
      "\n",
      "Epoch 8/30\n"
     ]
    },
    {
     "name": "stderr",
     "output_type": "stream",
     "text": [
      "Training: 100%|██████████████████████████████████████████████████| 52/52 [01:01<00:00,  1.19s/it]\n",
      "Evaluating: 100%|████████████████████████████████████████████████| 13/13 [00:05<00:00,  2.18it/s]\n"
     ]
    },
    {
     "name": "stdout",
     "output_type": "stream",
     "text": [
      "\n",
      "Train Acc: 0.9584\n",
      "Val Acc: 0.9179, Precision: 0.9096, Recall: 0.9179, F1: 0.8995\n",
      "\n",
      "Epoch 9/30\n"
     ]
    },
    {
     "name": "stderr",
     "output_type": "stream",
     "text": [
      "Training: 100%|██████████████████████████████████████████████████| 52/52 [01:01<00:00,  1.19s/it]\n",
      "Evaluating: 100%|████████████████████████████████████████████████| 13/13 [00:06<00:00,  2.16it/s]\n"
     ]
    },
    {
     "name": "stdout",
     "output_type": "stream",
     "text": [
      "\n",
      "Train Acc: 0.9644\n",
      "Val Acc: 0.9589, Precision: 0.9591, Recall: 0.9589, F1: 0.9550\n",
      "✅ Saved best model for fold 2 (F1: 0.9550)\n",
      "\n",
      "Epoch 10/30\n"
     ]
    },
    {
     "name": "stderr",
     "output_type": "stream",
     "text": [
      "Training: 100%|██████████████████████████████████████████████████| 52/52 [01:02<00:00,  1.20s/it]\n",
      "Evaluating: 100%|████████████████████████████████████████████████| 13/13 [00:05<00:00,  2.17it/s]\n"
     ]
    },
    {
     "name": "stdout",
     "output_type": "stream",
     "text": [
      "\n",
      "Train Acc: 0.9765\n",
      "Val Acc: 0.9517, Precision: 0.9494, Recall: 0.9517, F1: 0.9501\n",
      "\n",
      "Epoch 11/30\n"
     ]
    },
    {
     "name": "stderr",
     "output_type": "stream",
     "text": [
      "Training: 100%|██████████████████████████████████████████████████| 52/52 [01:02<00:00,  1.21s/it]\n",
      "Evaluating: 100%|████████████████████████████████████████████████| 13/13 [00:06<00:00,  2.17it/s]\n"
     ]
    },
    {
     "name": "stdout",
     "output_type": "stream",
     "text": [
      "\n",
      "Train Acc: 0.9837\n",
      "Val Acc: 0.9324, Precision: 0.9282, Recall: 0.9324, F1: 0.9217\n",
      "\n",
      "Epoch 12/30\n"
     ]
    },
    {
     "name": "stderr",
     "output_type": "stream",
     "text": [
      "Training: 100%|██████████████████████████████████████████████████| 52/52 [01:01<00:00,  1.19s/it]\n",
      "Evaluating: 100%|████████████████████████████████████████████████| 13/13 [00:06<00:00,  2.15it/s]\n"
     ]
    },
    {
     "name": "stdout",
     "output_type": "stream",
     "text": [
      "\n",
      "Train Acc: 0.9789\n",
      "Val Acc: 0.9565, Precision: 0.9546, Recall: 0.9565, F1: 0.9551\n",
      "✅ Saved best model for fold 2 (F1: 0.9551)\n",
      "\n",
      "Epoch 13/30\n"
     ]
    },
    {
     "name": "stderr",
     "output_type": "stream",
     "text": [
      "Training: 100%|██████████████████████████████████████████████████| 52/52 [01:02<00:00,  1.20s/it]\n",
      "Evaluating: 100%|████████████████████████████████████████████████| 13/13 [00:05<00:00,  2.17it/s]\n"
     ]
    },
    {
     "name": "stdout",
     "output_type": "stream",
     "text": [
      "\n",
      "Train Acc: 0.9837\n",
      "Val Acc: 0.9541, Precision: 0.9531, Recall: 0.9541, F1: 0.9497\n",
      "\n",
      "Epoch 14/30\n"
     ]
    },
    {
     "name": "stderr",
     "output_type": "stream",
     "text": [
      "Training: 100%|██████████████████████████████████████████████████| 52/52 [01:02<00:00,  1.19s/it]\n",
      "Evaluating: 100%|████████████████████████████████████████████████| 13/13 [00:06<00:00,  2.16it/s]\n"
     ]
    },
    {
     "name": "stdout",
     "output_type": "stream",
     "text": [
      "\n",
      "Train Acc: 0.9837\n",
      "Val Acc: 0.9614, Precision: 0.9606, Recall: 0.9614, F1: 0.9609\n",
      "✅ Saved best model for fold 2 (F1: 0.9609)\n",
      "\n",
      "Epoch 15/30\n"
     ]
    },
    {
     "name": "stderr",
     "output_type": "stream",
     "text": [
      "Training: 100%|██████████████████████████████████████████████████| 52/52 [01:02<00:00,  1.20s/it]\n",
      "Evaluating: 100%|████████████████████████████████████████████████| 13/13 [00:06<00:00,  2.07it/s]\n"
     ]
    },
    {
     "name": "stdout",
     "output_type": "stream",
     "text": [
      "\n",
      "Train Acc: 0.9897\n",
      "Val Acc: 0.9444, Precision: 0.9411, Recall: 0.9444, F1: 0.9391\n",
      "\n",
      "Epoch 16/30\n"
     ]
    },
    {
     "name": "stderr",
     "output_type": "stream",
     "text": [
      "Training: 100%|██████████████████████████████████████████████████| 52/52 [08:59<00:00, 10.37s/it]\n",
      "Evaluating: 100%|████████████████████████████████████████████████| 13/13 [00:06<00:00,  1.99it/s]\n"
     ]
    },
    {
     "name": "stdout",
     "output_type": "stream",
     "text": [
      "\n",
      "Train Acc: 0.9946\n",
      "Val Acc: 0.9541, Precision: 0.9518, Recall: 0.9541, F1: 0.9511\n",
      "\n",
      "Epoch 17/30\n"
     ]
    },
    {
     "name": "stderr",
     "output_type": "stream",
     "text": [
      "Training: 100%|██████████████████████████████████████████████████| 52/52 [01:02<00:00,  1.20s/it]\n",
      "Evaluating: 100%|████████████████████████████████████████████████| 13/13 [00:06<00:00,  2.06it/s]\n"
     ]
    },
    {
     "name": "stdout",
     "output_type": "stream",
     "text": [
      "\n",
      "Train Acc: 0.9843\n",
      "Val Acc: 0.9420, Precision: 0.9456, Recall: 0.9420, F1: 0.9317\n",
      "\n",
      "Epoch 18/30\n"
     ]
    },
    {
     "name": "stderr",
     "output_type": "stream",
     "text": [
      "Training: 100%|██████████████████████████████████████████████████| 52/52 [01:02<00:00,  1.19s/it]\n",
      "Evaluating: 100%|████████████████████████████████████████████████| 13/13 [00:06<00:00,  2.16it/s]\n"
     ]
    },
    {
     "name": "stdout",
     "output_type": "stream",
     "text": [
      "\n",
      "Train Acc: 0.9946\n",
      "Val Acc: 0.9565, Precision: 0.9568, Recall: 0.9565, F1: 0.9520\n",
      "\n",
      "Epoch 19/30\n"
     ]
    },
    {
     "name": "stderr",
     "output_type": "stream",
     "text": [
      "Training: 100%|██████████████████████████████████████████████████| 52/52 [01:01<00:00,  1.19s/it]\n",
      "Evaluating: 100%|████████████████████████████████████████████████| 13/13 [00:06<00:00,  1.99it/s]\n"
     ]
    },
    {
     "name": "stdout",
     "output_type": "stream",
     "text": [
      "\n",
      "Train Acc: 0.9976\n",
      "Val Acc: 0.9589, Precision: 0.9591, Recall: 0.9589, F1: 0.9550\n",
      "\n",
      "Epoch 20/30\n"
     ]
    },
    {
     "name": "stderr",
     "output_type": "stream",
     "text": [
      "Training: 100%|██████████████████████████████████████████████████| 52/52 [01:02<00:00,  1.20s/it]\n",
      "Evaluating: 100%|████████████████████████████████████████████████| 13/13 [00:05<00:00,  2.17it/s]\n"
     ]
    },
    {
     "name": "stdout",
     "output_type": "stream",
     "text": [
      "\n",
      "Train Acc: 0.9994\n",
      "Val Acc: 0.9589, Precision: 0.9591, Recall: 0.9589, F1: 0.9550\n",
      "\n",
      "Epoch 21/30\n"
     ]
    },
    {
     "name": "stderr",
     "output_type": "stream",
     "text": [
      "Training: 100%|██████████████████████████████████████████████████| 52/52 [01:02<00:00,  1.20s/it]\n",
      "Evaluating: 100%|████████████████████████████████████████████████| 13/13 [00:06<00:00,  2.09it/s]\n"
     ]
    },
    {
     "name": "stdout",
     "output_type": "stream",
     "text": [
      "\n",
      "Train Acc: 0.9994\n",
      "Val Acc: 0.9517, Precision: 0.9506, Recall: 0.9517, F1: 0.9467\n",
      "\n",
      "Epoch 22/30\n"
     ]
    },
    {
     "name": "stderr",
     "output_type": "stream",
     "text": [
      "Training: 100%|██████████████████████████████████████████████████| 52/52 [01:02<00:00,  1.20s/it]\n",
      "Evaluating: 100%|████████████████████████████████████████████████| 13/13 [00:06<00:00,  2.15it/s]\n"
     ]
    },
    {
     "name": "stdout",
     "output_type": "stream",
     "text": [
      "\n",
      "Train Acc: 0.9970\n",
      "Val Acc: 0.9493, Precision: 0.9481, Recall: 0.9493, F1: 0.9436\n",
      "\n",
      "Epoch 23/30\n"
     ]
    },
    {
     "name": "stderr",
     "output_type": "stream",
     "text": [
      "Training: 100%|██████████████████████████████████████████████████| 52/52 [01:02<00:00,  1.19s/it]\n",
      "Evaluating: 100%|████████████████████████████████████████████████| 13/13 [00:06<00:00,  2.15it/s]\n"
     ]
    },
    {
     "name": "stdout",
     "output_type": "stream",
     "text": [
      "\n",
      "Train Acc: 0.9988\n",
      "Val Acc: 0.9517, Precision: 0.9497, Recall: 0.9517, F1: 0.9474\n",
      "\n",
      "Epoch 24/30\n"
     ]
    },
    {
     "name": "stderr",
     "output_type": "stream",
     "text": [
      "Training: 100%|██████████████████████████████████████████████████| 52/52 [01:02<00:00,  1.19s/it]\n",
      "Evaluating: 100%|████████████████████████████████████████████████| 13/13 [00:06<00:00,  2.16it/s]\n"
     ]
    },
    {
     "name": "stdout",
     "output_type": "stream",
     "text": [
      "\n",
      "Train Acc: 1.0000\n",
      "Val Acc: 0.9541, Precision: 0.9523, Recall: 0.9541, F1: 0.9504\n",
      "\n",
      "Epoch 25/30\n"
     ]
    },
    {
     "name": "stderr",
     "output_type": "stream",
     "text": [
      "Training: 100%|██████████████████████████████████████████████████| 52/52 [01:03<00:00,  1.23s/it]\n",
      "Evaluating: 100%|████████████████████████████████████████████████| 13/13 [00:06<00:00,  2.00it/s]\n"
     ]
    },
    {
     "name": "stdout",
     "output_type": "stream",
     "text": [
      "\n",
      "Train Acc: 0.9994\n",
      "Val Acc: 0.9638, Precision: 0.9624, Recall: 0.9638, F1: 0.9623\n",
      "✅ Saved best model for fold 2 (F1: 0.9623)\n",
      "\n",
      "Epoch 26/30\n"
     ]
    },
    {
     "name": "stderr",
     "output_type": "stream",
     "text": [
      "Training: 100%|██████████████████████████████████████████████████| 52/52 [01:03<00:00,  1.22s/it]\n",
      "Evaluating: 100%|████████████████████████████████████████████████| 13/13 [00:05<00:00,  2.17it/s]\n"
     ]
    },
    {
     "name": "stdout",
     "output_type": "stream",
     "text": [
      "\n",
      "Train Acc: 1.0000\n",
      "Val Acc: 0.9638, Precision: 0.9625, Recall: 0.9638, F1: 0.9619\n",
      "\n",
      "Epoch 27/30\n"
     ]
    },
    {
     "name": "stderr",
     "output_type": "stream",
     "text": [
      "Training: 100%|██████████████████████████████████████████████████| 52/52 [01:01<00:00,  1.19s/it]\n",
      "Evaluating: 100%|████████████████████████████████████████████████| 13/13 [00:05<00:00,  2.17it/s]\n"
     ]
    },
    {
     "name": "stdout",
     "output_type": "stream",
     "text": [
      "\n",
      "Train Acc: 1.0000\n",
      "Val Acc: 0.9638, Precision: 0.9625, Recall: 0.9638, F1: 0.9619\n",
      "\n",
      "Epoch 28/30\n"
     ]
    },
    {
     "name": "stderr",
     "output_type": "stream",
     "text": [
      "Training: 100%|██████████████████████████████████████████████████| 52/52 [01:01<00:00,  1.19s/it]\n",
      "Evaluating: 100%|████████████████████████████████████████████████| 13/13 [00:06<00:00,  2.11it/s]\n"
     ]
    },
    {
     "name": "stdout",
     "output_type": "stream",
     "text": [
      "\n",
      "Train Acc: 0.9988\n",
      "Val Acc: 0.9614, Precision: 0.9605, Recall: 0.9614, F1: 0.9585\n",
      "\n",
      "Epoch 29/30\n"
     ]
    },
    {
     "name": "stderr",
     "output_type": "stream",
     "text": [
      "Training: 100%|██████████████████████████████████████████████████| 52/52 [01:01<00:00,  1.19s/it]\n",
      "Evaluating: 100%|████████████████████████████████████████████████| 13/13 [00:05<00:00,  2.19it/s]\n"
     ]
    },
    {
     "name": "stdout",
     "output_type": "stream",
     "text": [
      "\n",
      "Train Acc: 1.0000\n",
      "Val Acc: 0.9614, Precision: 0.9605, Recall: 0.9614, F1: 0.9585\n",
      "\n",
      "Epoch 30/30\n"
     ]
    },
    {
     "name": "stderr",
     "output_type": "stream",
     "text": [
      "Training: 100%|██████████████████████████████████████████████████| 52/52 [01:01<00:00,  1.19s/it]\n",
      "Evaluating: 100%|████████████████████████████████████████████████| 13/13 [00:05<00:00,  2.19it/s]\n"
     ]
    },
    {
     "name": "stdout",
     "output_type": "stream",
     "text": [
      "\n",
      "Train Acc: 1.0000\n",
      "Val Acc: 0.9614, Precision: 0.9605, Recall: 0.9614, F1: 0.9585\n",
      "\n",
      "===== Fold 3 =====\n",
      "\n",
      "Epoch 1/30\n"
     ]
    },
    {
     "name": "stderr",
     "output_type": "stream",
     "text": [
      "Training: 100%|██████████████████████████████████████████████████| 52/52 [01:01<00:00,  1.19s/it]\n",
      "Evaluating: 100%|████████████████████████████████████████████████| 13/13 [00:05<00:00,  2.23it/s]\n"
     ]
    },
    {
     "name": "stdout",
     "output_type": "stream",
     "text": [
      "\n",
      "Train Acc: 0.8980\n",
      "Val Acc: 0.8961, Precision: 0.8807, Recall: 0.8961, F1: 0.8862\n",
      "✅ Saved best model for fold 3 (F1: 0.8862)\n",
      "\n",
      "Epoch 2/30\n"
     ]
    },
    {
     "name": "stderr",
     "output_type": "stream",
     "text": [
      "Training: 100%|██████████████████████████████████████████████████| 52/52 [01:02<00:00,  1.20s/it]\n",
      "Evaluating: 100%|████████████████████████████████████████████████| 13/13 [00:06<00:00,  2.12it/s]\n",
      "/Users/qwang/transformer_env/lib/python3.12/site-packages/sklearn/metrics/_classification.py:1731: UndefinedMetricWarning: Precision is ill-defined and being set to 0.0 in labels with no predicted samples. Use `zero_division` parameter to control this behavior.\n",
      "  _warn_prf(average, modifier, f\"{metric.capitalize()} is\", result.shape[0])\n"
     ]
    },
    {
     "name": "stdout",
     "output_type": "stream",
     "text": [
      "\n",
      "Train Acc: 0.9077\n",
      "Val Acc: 0.8961, Precision: 0.8031, Recall: 0.8961, F1: 0.8470\n",
      "\n",
      "Epoch 3/30\n"
     ]
    },
    {
     "name": "stderr",
     "output_type": "stream",
     "text": [
      "Training: 100%|██████████████████████████████████████████████████| 52/52 [01:02<00:00,  1.20s/it]\n",
      "Evaluating: 100%|████████████████████████████████████████████████| 13/13 [00:05<00:00,  2.23it/s]\n"
     ]
    },
    {
     "name": "stdout",
     "output_type": "stream",
     "text": [
      "\n",
      "Train Acc: 0.9161\n",
      "Val Acc: 0.9251, Precision: 0.9217, Recall: 0.9251, F1: 0.9093\n",
      "✅ Saved best model for fold 3 (F1: 0.9093)\n",
      "\n",
      "Epoch 4/30\n"
     ]
    },
    {
     "name": "stderr",
     "output_type": "stream",
     "text": [
      "Training: 100%|██████████████████████████████████████████████████| 52/52 [01:02<00:00,  1.20s/it]\n",
      "Evaluating: 100%|████████████████████████████████████████████████| 13/13 [00:05<00:00,  2.25it/s]\n"
     ]
    },
    {
     "name": "stdout",
     "output_type": "stream",
     "text": [
      "\n",
      "Train Acc: 0.9240\n",
      "Val Acc: 0.8961, Precision: 0.9199, Recall: 0.8961, F1: 0.9048\n",
      "\n",
      "Epoch 5/30\n"
     ]
    },
    {
     "name": "stderr",
     "output_type": "stream",
     "text": [
      "Training: 100%|██████████████████████████████████████████████████| 52/52 [01:02<00:00,  1.21s/it]\n",
      "Evaluating: 100%|████████████████████████████████████████████████| 13/13 [00:05<00:00,  2.19it/s]\n"
     ]
    },
    {
     "name": "stdout",
     "output_type": "stream",
     "text": [
      "\n",
      "Train Acc: 0.9348\n",
      "Val Acc: 0.9179, Precision: 0.9065, Recall: 0.9179, F1: 0.9049\n",
      "\n",
      "Epoch 6/30\n"
     ]
    },
    {
     "name": "stderr",
     "output_type": "stream",
     "text": [
      "Training: 100%|██████████████████████████████████████████████████| 52/52 [01:02<00:00,  1.21s/it]\n",
      "Evaluating: 100%|████████████████████████████████████████████████| 13/13 [00:05<00:00,  2.21it/s]\n"
     ]
    },
    {
     "name": "stdout",
     "output_type": "stream",
     "text": [
      "\n",
      "Train Acc: 0.9559\n",
      "Val Acc: 0.9275, Precision: 0.9209, Recall: 0.9275, F1: 0.9161\n",
      "✅ Saved best model for fold 3 (F1: 0.9161)\n",
      "\n",
      "Epoch 7/30\n"
     ]
    },
    {
     "name": "stderr",
     "output_type": "stream",
     "text": [
      "Training: 100%|██████████████████████████████████████████████████| 52/52 [01:03<00:00,  1.22s/it]\n",
      "Evaluating: 100%|████████████████████████████████████████████████| 13/13 [00:06<00:00,  2.03it/s]\n"
     ]
    },
    {
     "name": "stdout",
     "output_type": "stream",
     "text": [
      "\n",
      "Train Acc: 0.9620\n",
      "Val Acc: 0.9348, Precision: 0.9435, Recall: 0.9348, F1: 0.9380\n",
      "✅ Saved best model for fold 3 (F1: 0.9380)\n",
      "\n",
      "Epoch 8/30\n"
     ]
    },
    {
     "name": "stderr",
     "output_type": "stream",
     "text": [
      "Training: 100%|██████████████████████████████████████████████████| 52/52 [01:04<00:00,  1.24s/it]\n",
      "Evaluating: 100%|████████████████████████████████████████████████| 13/13 [00:06<00:00,  2.11it/s]\n"
     ]
    },
    {
     "name": "stdout",
     "output_type": "stream",
     "text": [
      "\n",
      "Train Acc: 0.9662\n",
      "Val Acc: 0.9300, Precision: 0.9246, Recall: 0.9300, F1: 0.9263\n",
      "\n",
      "Epoch 9/30\n"
     ]
    },
    {
     "name": "stderr",
     "output_type": "stream",
     "text": [
      "Training: 100%|██████████████████████████████████████████████████| 52/52 [01:04<00:00,  1.23s/it]\n",
      "Evaluating: 100%|████████████████████████████████████████████████| 13/13 [00:06<00:00,  2.06it/s]\n"
     ]
    },
    {
     "name": "stdout",
     "output_type": "stream",
     "text": [
      "\n",
      "Train Acc: 0.9765\n",
      "Val Acc: 0.9420, Precision: 0.9391, Recall: 0.9420, F1: 0.9401\n",
      "✅ Saved best model for fold 3 (F1: 0.9401)\n",
      "\n",
      "Epoch 10/30\n"
     ]
    },
    {
     "name": "stderr",
     "output_type": "stream",
     "text": [
      "Training: 100%|██████████████████████████████████████████████████| 52/52 [01:04<00:00,  1.23s/it]\n",
      "Evaluating: 100%|████████████████████████████████████████████████| 13/13 [00:06<00:00,  2.10it/s]\n"
     ]
    },
    {
     "name": "stdout",
     "output_type": "stream",
     "text": [
      "\n",
      "Train Acc: 0.9813\n",
      "Val Acc: 0.9420, Precision: 0.9392, Recall: 0.9420, F1: 0.9350\n",
      "\n",
      "Epoch 11/30\n"
     ]
    },
    {
     "name": "stderr",
     "output_type": "stream",
     "text": [
      "Training: 100%|██████████████████████████████████████████████████| 52/52 [01:03<00:00,  1.23s/it]\n",
      "Evaluating: 100%|████████████████████████████████████████████████| 13/13 [00:06<00:00,  2.11it/s]\n"
     ]
    },
    {
     "name": "stdout",
     "output_type": "stream",
     "text": [
      "\n",
      "Train Acc: 0.9837\n",
      "Val Acc: 0.9227, Precision: 0.9278, Recall: 0.9227, F1: 0.9249\n",
      "\n",
      "Epoch 12/30\n"
     ]
    },
    {
     "name": "stderr",
     "output_type": "stream",
     "text": [
      "Training: 100%|██████████████████████████████████████████████████| 52/52 [01:03<00:00,  1.21s/it]\n",
      "Evaluating: 100%|████████████████████████████████████████████████| 13/13 [00:06<00:00,  2.12it/s]\n"
     ]
    },
    {
     "name": "stdout",
     "output_type": "stream",
     "text": [
      "\n",
      "Train Acc: 0.9916\n",
      "Val Acc: 0.9348, Precision: 0.9369, Recall: 0.9348, F1: 0.9357\n",
      "\n",
      "Epoch 13/30\n"
     ]
    },
    {
     "name": "stderr",
     "output_type": "stream",
     "text": [
      "Training: 100%|██████████████████████████████████████████████████| 52/52 [01:03<00:00,  1.21s/it]\n",
      "Evaluating: 100%|████████████████████████████████████████████████| 13/13 [00:05<00:00,  2.23it/s]\n"
     ]
    },
    {
     "name": "stdout",
     "output_type": "stream",
     "text": [
      "\n",
      "Train Acc: 0.9867\n",
      "Val Acc: 0.9300, Precision: 0.9233, Recall: 0.9300, F1: 0.9243\n",
      "\n",
      "Epoch 14/30\n"
     ]
    },
    {
     "name": "stderr",
     "output_type": "stream",
     "text": [
      "Training: 100%|██████████████████████████████████████████████████| 52/52 [01:02<00:00,  1.20s/it]\n",
      "Evaluating: 100%|████████████████████████████████████████████████| 13/13 [00:06<00:00,  2.10it/s]\n"
     ]
    },
    {
     "name": "stdout",
     "output_type": "stream",
     "text": [
      "\n",
      "Train Acc: 0.9891\n",
      "Val Acc: 0.9444, Precision: 0.9420, Recall: 0.9444, F1: 0.9429\n",
      "✅ Saved best model for fold 3 (F1: 0.9429)\n",
      "\n",
      "Epoch 15/30\n"
     ]
    },
    {
     "name": "stderr",
     "output_type": "stream",
     "text": [
      "Training: 100%|██████████████████████████████████████████████████| 52/52 [01:04<00:00,  1.24s/it]\n",
      "Evaluating: 100%|████████████████████████████████████████████████| 13/13 [00:06<00:00,  2.01it/s]\n"
     ]
    },
    {
     "name": "stdout",
     "output_type": "stream",
     "text": [
      "\n",
      "Train Acc: 0.9958\n",
      "Val Acc: 0.9396, Precision: 0.9416, Recall: 0.9396, F1: 0.9405\n",
      "\n",
      "Epoch 16/30\n"
     ]
    },
    {
     "name": "stderr",
     "output_type": "stream",
     "text": [
      "Training: 100%|██████████████████████████████████████████████████| 52/52 [01:03<00:00,  1.23s/it]\n",
      "Evaluating: 100%|████████████████████████████████████████████████| 13/13 [00:06<00:00,  2.09it/s]\n"
     ]
    },
    {
     "name": "stdout",
     "output_type": "stream",
     "text": [
      "\n",
      "Train Acc: 0.9885\n",
      "Val Acc: 0.9420, Precision: 0.9391, Recall: 0.9420, F1: 0.9401\n",
      "\n",
      "Epoch 17/30\n"
     ]
    },
    {
     "name": "stderr",
     "output_type": "stream",
     "text": [
      "Training: 100%|██████████████████████████████████████████████████| 52/52 [01:03<00:00,  1.21s/it]\n",
      "Evaluating: 100%|████████████████████████████████████████████████| 13/13 [00:05<00:00,  2.22it/s]\n"
     ]
    },
    {
     "name": "stdout",
     "output_type": "stream",
     "text": [
      "\n",
      "Train Acc: 0.9970\n",
      "Val Acc: 0.9469, Precision: 0.9435, Recall: 0.9469, F1: 0.9430\n",
      "✅ Saved best model for fold 3 (F1: 0.9430)\n",
      "\n",
      "Epoch 18/30\n"
     ]
    },
    {
     "name": "stderr",
     "output_type": "stream",
     "text": [
      "Training: 100%|██████████████████████████████████████████████████| 52/52 [01:02<00:00,  1.21s/it]\n",
      "Evaluating: 100%|████████████████████████████████████████████████| 13/13 [00:05<00:00,  2.22it/s]\n"
     ]
    },
    {
     "name": "stdout",
     "output_type": "stream",
     "text": [
      "\n",
      "Train Acc: 0.9952\n",
      "Val Acc: 0.9372, Precision: 0.9372, Recall: 0.9372, F1: 0.9372\n",
      "\n",
      "Epoch 19/30\n"
     ]
    },
    {
     "name": "stderr",
     "output_type": "stream",
     "text": [
      "Training: 100%|██████████████████████████████████████████████████| 52/52 [01:02<00:00,  1.20s/it]\n",
      "Evaluating: 100%|████████████████████████████████████████████████| 13/13 [00:05<00:00,  2.21it/s]\n"
     ]
    },
    {
     "name": "stdout",
     "output_type": "stream",
     "text": [
      "\n",
      "Train Acc: 0.9976\n",
      "Val Acc: 0.9420, Precision: 0.9392, Recall: 0.9420, F1: 0.9350\n",
      "\n",
      "Epoch 20/30\n"
     ]
    },
    {
     "name": "stderr",
     "output_type": "stream",
     "text": [
      "Training: 100%|██████████████████████████████████████████████████| 52/52 [01:02<00:00,  1.19s/it]\n",
      "Evaluating: 100%|████████████████████████████████████████████████| 13/13 [00:05<00:00,  2.23it/s]\n"
     ]
    },
    {
     "name": "stdout",
     "output_type": "stream",
     "text": [
      "\n",
      "Train Acc: 0.9994\n",
      "Val Acc: 0.9517, Precision: 0.9497, Recall: 0.9517, F1: 0.9474\n",
      "✅ Saved best model for fold 3 (F1: 0.9474)\n",
      "\n",
      "Epoch 21/30\n"
     ]
    },
    {
     "name": "stderr",
     "output_type": "stream",
     "text": [
      "Training: 100%|██████████████████████████████████████████████████| 52/52 [01:02<00:00,  1.20s/it]\n",
      "Evaluating: 100%|████████████████████████████████████████████████| 13/13 [00:07<00:00,  1.85it/s]\n"
     ]
    },
    {
     "name": "stdout",
     "output_type": "stream",
     "text": [
      "\n",
      "Train Acc: 1.0000\n",
      "Val Acc: 0.9565, Precision: 0.9544, Recall: 0.9565, F1: 0.9545\n",
      "✅ Saved best model for fold 3 (F1: 0.9545)\n",
      "\n",
      "Epoch 22/30\n"
     ]
    },
    {
     "name": "stderr",
     "output_type": "stream",
     "text": [
      "Training: 100%|██████████████████████████████████████████████████| 52/52 [01:05<00:00,  1.27s/it]\n",
      "Evaluating: 100%|████████████████████████████████████████████████| 13/13 [00:06<00:00,  2.16it/s]\n"
     ]
    },
    {
     "name": "stdout",
     "output_type": "stream",
     "text": [
      "\n",
      "Train Acc: 1.0000\n",
      "Val Acc: 0.9565, Precision: 0.9545, Recall: 0.9565, F1: 0.9540\n",
      "\n",
      "Epoch 23/30\n"
     ]
    },
    {
     "name": "stderr",
     "output_type": "stream",
     "text": [
      "Training: 100%|██████████████████████████████████████████████████| 52/52 [01:06<00:00,  1.27s/it]\n",
      "Evaluating: 100%|████████████████████████████████████████████████| 13/13 [00:06<00:00,  2.15it/s]\n"
     ]
    },
    {
     "name": "stdout",
     "output_type": "stream",
     "text": [
      "\n",
      "Train Acc: 1.0000\n",
      "Val Acc: 0.9589, Precision: 0.9571, Recall: 0.9589, F1: 0.9568\n",
      "✅ Saved best model for fold 3 (F1: 0.9568)\n",
      "\n",
      "Epoch 24/30\n"
     ]
    },
    {
     "name": "stderr",
     "output_type": "stream",
     "text": [
      "Training: 100%|██████████████████████████████████████████████████| 52/52 [01:05<00:00,  1.27s/it]\n",
      "Evaluating: 100%|████████████████████████████████████████████████| 13/13 [00:06<00:00,  2.04it/s]\n"
     ]
    },
    {
     "name": "stdout",
     "output_type": "stream",
     "text": [
      "\n",
      "Train Acc: 0.9994\n",
      "Val Acc: 0.9493, Precision: 0.9471, Recall: 0.9493, F1: 0.9444\n",
      "\n",
      "Epoch 25/30\n"
     ]
    },
    {
     "name": "stderr",
     "output_type": "stream",
     "text": [
      "Training: 100%|██████████████████████████████████████████████████| 52/52 [01:03<00:00,  1.23s/it]\n",
      "Evaluating: 100%|████████████████████████████████████████████████| 13/13 [00:05<00:00,  2.21it/s]\n"
     ]
    },
    {
     "name": "stdout",
     "output_type": "stream",
     "text": [
      "\n",
      "Train Acc: 1.0000\n",
      "Val Acc: 0.9614, Precision: 0.9600, Recall: 0.9614, F1: 0.9591\n",
      "✅ Saved best model for fold 3 (F1: 0.9591)\n",
      "\n",
      "Epoch 26/30\n"
     ]
    },
    {
     "name": "stderr",
     "output_type": "stream",
     "text": [
      "Training: 100%|██████████████████████████████████████████████████| 52/52 [07:33<00:00,  8.72s/it]\n",
      "Evaluating: 100%|████████████████████████████████████████████████| 13/13 [00:05<00:00,  2.23it/s]\n"
     ]
    },
    {
     "name": "stdout",
     "output_type": "stream",
     "text": [
      "\n",
      "Train Acc: 1.0000\n",
      "Val Acc: 0.9614, Precision: 0.9600, Recall: 0.9614, F1: 0.9591\n",
      "\n",
      "Epoch 27/30\n"
     ]
    },
    {
     "name": "stderr",
     "output_type": "stream",
     "text": [
      "Training: 100%|██████████████████████████████████████████████████| 52/52 [11:16<00:00, 13.01s/it]\n",
      "Evaluating: 100%|████████████████████████████████████████████████| 13/13 [00:05<00:00,  2.21it/s]\n"
     ]
    },
    {
     "name": "stdout",
     "output_type": "stream",
     "text": [
      "\n",
      "Train Acc: 1.0000\n",
      "Val Acc: 0.9565, Precision: 0.9549, Recall: 0.9565, F1: 0.9533\n",
      "\n",
      "Epoch 28/30\n"
     ]
    },
    {
     "name": "stderr",
     "output_type": "stream",
     "text": [
      "Training: 100%|██████████████████████████████████████████████████| 52/52 [01:03<00:00,  1.21s/it]\n",
      "Evaluating: 100%|████████████████████████████████████████████████| 13/13 [00:06<00:00,  2.09it/s]\n"
     ]
    },
    {
     "name": "stdout",
     "output_type": "stream",
     "text": [
      "\n",
      "Train Acc: 1.0000\n",
      "Val Acc: 0.9565, Precision: 0.9549, Recall: 0.9565, F1: 0.9533\n",
      "\n",
      "Epoch 29/30\n"
     ]
    },
    {
     "name": "stderr",
     "output_type": "stream",
     "text": [
      "Training: 100%|██████████████████████████████████████████████████| 52/52 [01:02<00:00,  1.21s/it]\n",
      "Evaluating: 100%|████████████████████████████████████████████████| 13/13 [00:06<00:00,  2.05it/s]\n"
     ]
    },
    {
     "name": "stdout",
     "output_type": "stream",
     "text": [
      "\n",
      "Train Acc: 1.0000\n",
      "Val Acc: 0.9565, Precision: 0.9549, Recall: 0.9565, F1: 0.9533\n",
      "\n",
      "Epoch 30/30\n"
     ]
    },
    {
     "name": "stderr",
     "output_type": "stream",
     "text": [
      "Training: 100%|██████████████████████████████████████████████████| 52/52 [01:02<00:00,  1.20s/it]\n",
      "Evaluating: 100%|████████████████████████████████████████████████| 13/13 [00:06<00:00,  1.86it/s]\n"
     ]
    },
    {
     "name": "stdout",
     "output_type": "stream",
     "text": [
      "\n",
      "Train Acc: 0.9994\n",
      "Val Acc: 0.9565, Precision: 0.9549, Recall: 0.9565, F1: 0.9533\n",
      "\n",
      "===== Fold 4 =====\n",
      "\n",
      "Epoch 1/30\n"
     ]
    },
    {
     "name": "stderr",
     "output_type": "stream",
     "text": [
      "Training: 100%|██████████████████████████████████████████████████| 52/52 [01:04<00:00,  1.24s/it]\n",
      "Evaluating: 100%|████████████████████████████████████████████████| 13/13 [00:06<00:00,  2.00it/s]\n",
      "/Users/qwang/transformer_env/lib/python3.12/site-packages/sklearn/metrics/_classification.py:1731: UndefinedMetricWarning: Precision is ill-defined and being set to 0.0 in labels with no predicted samples. Use `zero_division` parameter to control this behavior.\n",
      "  _warn_prf(average, modifier, f\"{metric.capitalize()} is\", result.shape[0])\n"
     ]
    },
    {
     "name": "stdout",
     "output_type": "stream",
     "text": [
      "\n",
      "Train Acc: 0.8877\n",
      "Val Acc: 0.8986, Precision: 0.8074, Recall: 0.8986, F1: 0.8505\n",
      "✅ Saved best model for fold 4 (F1: 0.8505)\n",
      "\n",
      "Epoch 2/30\n"
     ]
    },
    {
     "name": "stderr",
     "output_type": "stream",
     "text": [
      "Training: 100%|██████████████████████████████████████████████████| 52/52 [01:03<00:00,  1.22s/it]\n",
      "Evaluating: 100%|████████████████████████████████████████████████| 13/13 [00:06<00:00,  1.94it/s]\n"
     ]
    },
    {
     "name": "stdout",
     "output_type": "stream",
     "text": [
      "\n",
      "Train Acc: 0.9240\n",
      "Val Acc: 0.9300, Precision: 0.9228, Recall: 0.9300, F1: 0.9206\n",
      "✅ Saved best model for fold 4 (F1: 0.9206)\n",
      "\n",
      "Epoch 3/30\n"
     ]
    },
    {
     "name": "stderr",
     "output_type": "stream",
     "text": [
      "Training: 100%|██████████████████████████████████████████████████| 52/52 [01:03<00:00,  1.22s/it]\n",
      "Evaluating: 100%|████████████████████████████████████████████████| 13/13 [00:06<00:00,  1.98it/s]\n"
     ]
    },
    {
     "name": "stdout",
     "output_type": "stream",
     "text": [
      "\n",
      "Train Acc: 0.9234\n",
      "Val Acc: 0.9034, Precision: 0.9326, Recall: 0.9034, F1: 0.9131\n",
      "\n",
      "Epoch 4/30\n"
     ]
    },
    {
     "name": "stderr",
     "output_type": "stream",
     "text": [
      "Training: 100%|██████████████████████████████████████████████████| 52/52 [01:02<00:00,  1.20s/it]\n",
      "Evaluating: 100%|████████████████████████████████████████████████| 13/13 [00:06<00:00,  2.03it/s]\n"
     ]
    },
    {
     "name": "stdout",
     "output_type": "stream",
     "text": [
      "\n",
      "Train Acc: 0.9487\n",
      "Val Acc: 0.9396, Precision: 0.9378, Recall: 0.9396, F1: 0.9386\n",
      "✅ Saved best model for fold 4 (F1: 0.9386)\n",
      "\n",
      "Epoch 5/30\n"
     ]
    },
    {
     "name": "stderr",
     "output_type": "stream",
     "text": [
      "Training: 100%|██████████████████████████████████████████████████| 52/52 [01:03<00:00,  1.22s/it]\n",
      "Evaluating: 100%|████████████████████████████████████████████████| 13/13 [00:06<00:00,  2.09it/s]\n"
     ]
    },
    {
     "name": "stdout",
     "output_type": "stream",
     "text": [
      "\n",
      "Train Acc: 0.9596\n",
      "Val Acc: 0.9493, Precision: 0.9520, Recall: 0.9493, F1: 0.9415\n",
      "✅ Saved best model for fold 4 (F1: 0.9415)\n",
      "\n",
      "Epoch 6/30\n"
     ]
    },
    {
     "name": "stderr",
     "output_type": "stream",
     "text": [
      "Training: 100%|██████████████████████████████████████████████████| 52/52 [01:02<00:00,  1.20s/it]\n",
      "Evaluating: 100%|████████████████████████████████████████████████| 13/13 [00:06<00:00,  1.97it/s]\n"
     ]
    },
    {
     "name": "stdout",
     "output_type": "stream",
     "text": [
      "\n",
      "Train Acc: 0.9692\n",
      "Val Acc: 0.9275, Precision: 0.9247, Recall: 0.9275, F1: 0.9259\n",
      "\n",
      "Epoch 7/30\n"
     ]
    },
    {
     "name": "stderr",
     "output_type": "stream",
     "text": [
      "Training: 100%|██████████████████████████████████████████████████| 52/52 [01:02<00:00,  1.20s/it]\n",
      "Evaluating: 100%|████████████████████████████████████████████████| 13/13 [00:06<00:00,  2.14it/s]\n"
     ]
    },
    {
     "name": "stdout",
     "output_type": "stream",
     "text": [
      "\n",
      "Train Acc: 0.9668\n",
      "Val Acc: 0.9251, Precision: 0.9165, Recall: 0.9251, F1: 0.9177\n",
      "\n",
      "Epoch 8/30\n"
     ]
    },
    {
     "name": "stderr",
     "output_type": "stream",
     "text": [
      "Training: 100%|██████████████████████████████████████████████████| 52/52 [01:02<00:00,  1.20s/it]\n",
      "Evaluating: 100%|████████████████████████████████████████████████| 13/13 [00:06<00:00,  2.13it/s]\n"
     ]
    },
    {
     "name": "stdout",
     "output_type": "stream",
     "text": [
      "\n",
      "Train Acc: 0.9771\n",
      "Val Acc: 0.9324, Precision: 0.9297, Recall: 0.9324, F1: 0.9199\n",
      "\n",
      "Epoch 9/30\n"
     ]
    },
    {
     "name": "stderr",
     "output_type": "stream",
     "text": [
      "Training: 100%|██████████████████████████████████████████████████| 52/52 [01:02<00:00,  1.19s/it]\n",
      "Evaluating: 100%|████████████████████████████████████████████████| 13/13 [00:06<00:00,  2.16it/s]\n"
     ]
    },
    {
     "name": "stdout",
     "output_type": "stream",
     "text": [
      "\n",
      "Train Acc: 0.9819\n",
      "Val Acc: 0.9565, Precision: 0.9567, Recall: 0.9565, F1: 0.9519\n",
      "✅ Saved best model for fold 4 (F1: 0.9519)\n",
      "\n",
      "Epoch 10/30\n"
     ]
    },
    {
     "name": "stderr",
     "output_type": "stream",
     "text": [
      "Training: 100%|██████████████████████████████████████████████████| 52/52 [01:03<00:00,  1.21s/it]\n",
      "Evaluating: 100%|████████████████████████████████████████████████| 13/13 [00:06<00:00,  2.10it/s]\n"
     ]
    },
    {
     "name": "stdout",
     "output_type": "stream",
     "text": [
      "\n",
      "Train Acc: 0.9813\n",
      "Val Acc: 0.9444, Precision: 0.9477, Recall: 0.9444, F1: 0.9348\n",
      "\n",
      "Epoch 11/30\n"
     ]
    },
    {
     "name": "stderr",
     "output_type": "stream",
     "text": [
      "Training: 100%|██████████████████████████████████████████████████| 52/52 [01:02<00:00,  1.20s/it]\n",
      "Evaluating: 100%|████████████████████████████████████████████████| 13/13 [00:06<00:00,  2.02it/s]\n"
     ]
    },
    {
     "name": "stdout",
     "output_type": "stream",
     "text": [
      "\n",
      "Train Acc: 0.9722\n",
      "Val Acc: 0.9420, Precision: 0.9425, Recall: 0.9420, F1: 0.9326\n",
      "\n",
      "Epoch 12/30\n"
     ]
    },
    {
     "name": "stderr",
     "output_type": "stream",
     "text": [
      "Training: 100%|██████████████████████████████████████████████████| 52/52 [01:02<00:00,  1.20s/it]\n",
      "Evaluating: 100%|████████████████████████████████████████████████| 13/13 [00:06<00:00,  2.00it/s]\n"
     ]
    },
    {
     "name": "stdout",
     "output_type": "stream",
     "text": [
      "\n",
      "Train Acc: 0.9867\n",
      "Val Acc: 0.9638, Precision: 0.9625, Recall: 0.9638, F1: 0.9627\n",
      "✅ Saved best model for fold 4 (F1: 0.9627)\n",
      "\n",
      "Epoch 13/30\n"
     ]
    },
    {
     "name": "stderr",
     "output_type": "stream",
     "text": [
      "Training: 100%|██████████████████████████████████████████████████| 52/52 [01:03<00:00,  1.22s/it]\n",
      "Evaluating: 100%|████████████████████████████████████████████████| 13/13 [00:06<00:00,  1.99it/s]\n"
     ]
    },
    {
     "name": "stdout",
     "output_type": "stream",
     "text": [
      "\n",
      "Train Acc: 0.9934\n",
      "Val Acc: 0.9710, Precision: 0.9710, Recall: 0.9710, F1: 0.9692\n",
      "✅ Saved best model for fold 4 (F1: 0.9692)\n",
      "\n",
      "Epoch 14/30\n"
     ]
    },
    {
     "name": "stderr",
     "output_type": "stream",
     "text": [
      "Training: 100%|██████████████████████████████████████████████████| 52/52 [01:03<00:00,  1.22s/it]\n",
      "Evaluating: 100%|████████████████████████████████████████████████| 13/13 [00:06<00:00,  1.96it/s]\n"
     ]
    },
    {
     "name": "stdout",
     "output_type": "stream",
     "text": [
      "\n",
      "Train Acc: 0.9982\n",
      "Val Acc: 0.9638, Precision: 0.9630, Recall: 0.9638, F1: 0.9613\n",
      "\n",
      "Epoch 15/30\n"
     ]
    },
    {
     "name": "stderr",
     "output_type": "stream",
     "text": [
      "Training: 100%|██████████████████████████████████████████████████| 52/52 [01:02<00:00,  1.20s/it]\n",
      "Evaluating: 100%|████████████████████████████████████████████████| 13/13 [00:06<00:00,  2.01it/s]\n"
     ]
    },
    {
     "name": "stdout",
     "output_type": "stream",
     "text": [
      "\n",
      "Train Acc: 0.9831\n",
      "Val Acc: 0.9517, Precision: 0.9505, Recall: 0.9517, F1: 0.9465\n",
      "\n",
      "Epoch 16/30\n"
     ]
    },
    {
     "name": "stderr",
     "output_type": "stream",
     "text": [
      "Training: 100%|██████████████████████████████████████████████████| 52/52 [01:02<00:00,  1.21s/it]\n",
      "Evaluating: 100%|████████████████████████████████████████████████| 13/13 [00:06<00:00,  2.07it/s]\n"
     ]
    },
    {
     "name": "stdout",
     "output_type": "stream",
     "text": [
      "\n",
      "Train Acc: 0.9903\n",
      "Val Acc: 0.9589, Precision: 0.9573, Recall: 0.9589, F1: 0.9578\n",
      "\n",
      "Epoch 17/30\n"
     ]
    },
    {
     "name": "stderr",
     "output_type": "stream",
     "text": [
      "Training: 100%|██████████████████████████████████████████████████| 52/52 [01:02<00:00,  1.20s/it]\n",
      "Evaluating: 100%|████████████████████████████████████████████████| 13/13 [00:06<00:00,  2.00it/s]\n"
     ]
    },
    {
     "name": "stdout",
     "output_type": "stream",
     "text": [
      "\n",
      "Train Acc: 0.9958\n",
      "Val Acc: 0.9614, Precision: 0.9598, Recall: 0.9614, F1: 0.9600\n",
      "\n",
      "Epoch 18/30\n"
     ]
    },
    {
     "name": "stderr",
     "output_type": "stream",
     "text": [
      "Training: 100%|██████████████████████████████████████████████████| 52/52 [01:03<00:00,  1.22s/it]\n",
      "Evaluating: 100%|████████████████████████████████████████████████| 13/13 [00:06<00:00,  2.06it/s]\n"
     ]
    },
    {
     "name": "stdout",
     "output_type": "stream",
     "text": [
      "\n",
      "Train Acc: 0.9958\n",
      "Val Acc: 0.9662, Precision: 0.9662, Recall: 0.9662, F1: 0.9636\n",
      "\n",
      "Epoch 19/30\n"
     ]
    },
    {
     "name": "stderr",
     "output_type": "stream",
     "text": [
      "Training: 100%|██████████████████████████████████████████████████| 52/52 [01:02<00:00,  1.20s/it]\n",
      "Evaluating: 100%|████████████████████████████████████████████████| 13/13 [00:06<00:00,  2.09it/s]\n"
     ]
    },
    {
     "name": "stdout",
     "output_type": "stream",
     "text": [
      "\n",
      "Train Acc: 0.9976\n",
      "Val Acc: 0.9638, Precision: 0.9652, Recall: 0.9638, F1: 0.9602\n",
      "\n",
      "Epoch 20/30\n"
     ]
    },
    {
     "name": "stderr",
     "output_type": "stream",
     "text": [
      "Training: 100%|██████████████████████████████████████████████████| 52/52 [01:03<00:00,  1.23s/it]\n",
      "Evaluating: 100%|████████████████████████████████████████████████| 13/13 [00:06<00:00,  2.10it/s]\n"
     ]
    },
    {
     "name": "stdout",
     "output_type": "stream",
     "text": [
      "\n",
      "Train Acc: 0.9994\n",
      "Val Acc: 0.9686, Precision: 0.9686, Recall: 0.9686, F1: 0.9665\n",
      "\n",
      "Epoch 21/30\n"
     ]
    },
    {
     "name": "stderr",
     "output_type": "stream",
     "text": [
      "Training: 100%|██████████████████████████████████████████████████| 52/52 [01:05<00:00,  1.25s/it]\n",
      "Evaluating: 100%|████████████████████████████████████████████████| 13/13 [00:06<00:00,  2.10it/s]\n"
     ]
    },
    {
     "name": "stdout",
     "output_type": "stream",
     "text": [
      "\n",
      "Train Acc: 0.9994\n",
      "Val Acc: 0.9662, Precision: 0.9654, Recall: 0.9662, F1: 0.9641\n",
      "\n",
      "Epoch 22/30\n"
     ]
    },
    {
     "name": "stderr",
     "output_type": "stream",
     "text": [
      "Training: 100%|██████████████████████████████████████████████████| 52/52 [01:05<00:00,  1.26s/it]\n",
      "Evaluating: 100%|████████████████████████████████████████████████| 13/13 [00:06<00:00,  2.00it/s]\n"
     ]
    },
    {
     "name": "stdout",
     "output_type": "stream",
     "text": [
      "\n",
      "Train Acc: 1.0000\n",
      "Val Acc: 0.9686, Precision: 0.9686, Recall: 0.9686, F1: 0.9665\n",
      "\n",
      "Epoch 23/30\n"
     ]
    },
    {
     "name": "stderr",
     "output_type": "stream",
     "text": [
      "Training: 100%|██████████████████████████████████████████████████| 52/52 [01:05<00:00,  1.26s/it]\n",
      "Evaluating: 100%|████████████████████████████████████████████████| 13/13 [00:06<00:00,  2.11it/s]\n"
     ]
    },
    {
     "name": "stdout",
     "output_type": "stream",
     "text": [
      "\n",
      "Train Acc: 0.9994\n",
      "Val Acc: 0.9686, Precision: 0.9686, Recall: 0.9686, F1: 0.9665\n",
      "\n",
      "Epoch 24/30\n"
     ]
    },
    {
     "name": "stderr",
     "output_type": "stream",
     "text": [
      "Training: 100%|██████████████████████████████████████████████████| 52/52 [01:04<00:00,  1.24s/it]\n",
      "Evaluating: 100%|████████████████████████████████████████████████| 13/13 [00:05<00:00,  2.17it/s]\n"
     ]
    },
    {
     "name": "stdout",
     "output_type": "stream",
     "text": [
      "\n",
      "Train Acc: 1.0000\n",
      "Val Acc: 0.9662, Precision: 0.9654, Recall: 0.9662, F1: 0.9641\n",
      "\n",
      "Epoch 25/30\n"
     ]
    },
    {
     "name": "stderr",
     "output_type": "stream",
     "text": [
      "Training: 100%|██████████████████████████████████████████████████| 52/52 [01:02<00:00,  1.20s/it]\n",
      "Evaluating: 100%|████████████████████████████████████████████████| 13/13 [00:06<00:00,  2.16it/s]\n"
     ]
    },
    {
     "name": "stdout",
     "output_type": "stream",
     "text": [
      "\n",
      "Train Acc: 1.0000\n",
      "Val Acc: 0.9662, Precision: 0.9654, Recall: 0.9662, F1: 0.9641\n",
      "\n",
      "Epoch 26/30\n"
     ]
    },
    {
     "name": "stderr",
     "output_type": "stream",
     "text": [
      "Training: 100%|██████████████████████████████████████████████████| 52/52 [12:23<00:00, 14.29s/it]\n",
      "Evaluating: 100%|████████████████████████████████████████████████| 13/13 [00:06<00:00,  2.05it/s]\n"
     ]
    },
    {
     "name": "stdout",
     "output_type": "stream",
     "text": [
      "\n",
      "Train Acc: 0.9994\n",
      "Val Acc: 0.9686, Precision: 0.9686, Recall: 0.9686, F1: 0.9665\n",
      "\n",
      "Epoch 27/30\n"
     ]
    },
    {
     "name": "stderr",
     "output_type": "stream",
     "text": [
      "Training: 100%|██████████████████████████████████████████████████| 52/52 [16:19<00:00, 18.83s/it]\n",
      "Evaluating: 100%|████████████████████████████████████████████████| 13/13 [00:06<00:00,  2.10it/s]\n"
     ]
    },
    {
     "name": "stdout",
     "output_type": "stream",
     "text": [
      "\n",
      "Train Acc: 0.9994\n",
      "Val Acc: 0.9686, Precision: 0.9686, Recall: 0.9686, F1: 0.9665\n",
      "\n",
      "Epoch 28/30\n"
     ]
    },
    {
     "name": "stderr",
     "output_type": "stream",
     "text": [
      "Training: 100%|██████████████████████████████████████████████████| 52/52 [03:18<00:00,  3.82s/it]\n",
      "Evaluating: 100%|████████████████████████████████████████████████| 13/13 [00:06<00:00,  2.15it/s]\n"
     ]
    },
    {
     "name": "stdout",
     "output_type": "stream",
     "text": [
      "\n",
      "Train Acc: 1.0000\n",
      "Val Acc: 0.9686, Precision: 0.9686, Recall: 0.9686, F1: 0.9665\n",
      "\n",
      "Epoch 29/30\n"
     ]
    },
    {
     "name": "stderr",
     "output_type": "stream",
     "text": [
      "Training: 100%|██████████████████████████████████████████████████| 52/52 [01:01<00:00,  1.19s/it]\n",
      "Evaluating: 100%|████████████████████████████████████████████████| 13/13 [00:06<00:00,  2.14it/s]\n"
     ]
    },
    {
     "name": "stdout",
     "output_type": "stream",
     "text": [
      "\n",
      "Train Acc: 0.9994\n",
      "Val Acc: 0.9686, Precision: 0.9686, Recall: 0.9686, F1: 0.9665\n",
      "\n",
      "Epoch 30/30\n"
     ]
    },
    {
     "name": "stderr",
     "output_type": "stream",
     "text": [
      "Training: 100%|██████████████████████████████████████████████████| 52/52 [01:02<00:00,  1.20s/it]\n",
      "Evaluating: 100%|████████████████████████████████████████████████| 13/13 [00:06<00:00,  2.14it/s]\n"
     ]
    },
    {
     "name": "stdout",
     "output_type": "stream",
     "text": [
      "\n",
      "Train Acc: 1.0000\n",
      "Val Acc: 0.9686, Precision: 0.9686, Recall: 0.9686, F1: 0.9665\n",
      "\n",
      "===== Fold 5 =====\n",
      "\n",
      "Epoch 1/30\n"
     ]
    },
    {
     "name": "stderr",
     "output_type": "stream",
     "text": [
      "Training: 100%|██████████████████████████████████████████████████| 52/52 [01:02<00:00,  1.20s/it]\n",
      "Evaluating: 100%|████████████████████████████████████████████████| 13/13 [00:05<00:00,  2.24it/s]\n",
      "/Users/qwang/transformer_env/lib/python3.12/site-packages/sklearn/metrics/_classification.py:1731: UndefinedMetricWarning: Precision is ill-defined and being set to 0.0 in labels with no predicted samples. Use `zero_division` parameter to control this behavior.\n",
      "  _warn_prf(average, modifier, f\"{metric.capitalize()} is\", result.shape[0])\n"
     ]
    },
    {
     "name": "stdout",
     "output_type": "stream",
     "text": [
      "\n",
      "Train Acc: 0.8896\n",
      "Val Acc: 0.8986, Precision: 0.8074, Recall: 0.8986, F1: 0.8505\n",
      "✅ Saved best model for fold 5 (F1: 0.8505)\n",
      "\n",
      "Epoch 2/30\n"
     ]
    },
    {
     "name": "stderr",
     "output_type": "stream",
     "text": [
      "Training: 100%|██████████████████████████████████████████████████| 52/52 [01:02<00:00,  1.20s/it]\n",
      "Evaluating: 100%|████████████████████████████████████████████████| 13/13 [00:05<00:00,  2.22it/s]\n",
      "/Users/qwang/transformer_env/lib/python3.12/site-packages/sklearn/metrics/_classification.py:1731: UndefinedMetricWarning: Precision is ill-defined and being set to 0.0 in labels with no predicted samples. Use `zero_division` parameter to control this behavior.\n",
      "  _warn_prf(average, modifier, f\"{metric.capitalize()} is\", result.shape[0])\n"
     ]
    },
    {
     "name": "stdout",
     "output_type": "stream",
     "text": [
      "\n",
      "Train Acc: 0.8968\n",
      "Val Acc: 0.8986, Precision: 0.8074, Recall: 0.8986, F1: 0.8505\n",
      "\n",
      "Epoch 3/30\n"
     ]
    },
    {
     "name": "stderr",
     "output_type": "stream",
     "text": [
      "Training: 100%|██████████████████████████████████████████████████| 52/52 [01:03<00:00,  1.22s/it]\n",
      "Evaluating: 100%|████████████████████████████████████████████████| 13/13 [00:06<00:00,  2.16it/s]\n",
      "/Users/qwang/transformer_env/lib/python3.12/site-packages/sklearn/metrics/_classification.py:1731: UndefinedMetricWarning: Precision is ill-defined and being set to 0.0 in labels with no predicted samples. Use `zero_division` parameter to control this behavior.\n",
      "  _warn_prf(average, modifier, f\"{metric.capitalize()} is\", result.shape[0])\n"
     ]
    },
    {
     "name": "stdout",
     "output_type": "stream",
     "text": [
      "\n",
      "Train Acc: 0.8968\n",
      "Val Acc: 0.8986, Precision: 0.8074, Recall: 0.8986, F1: 0.8505\n",
      "\n",
      "Epoch 4/30\n"
     ]
    },
    {
     "name": "stderr",
     "output_type": "stream",
     "text": [
      "Training: 100%|██████████████████████████████████████████████████| 52/52 [01:04<00:00,  1.24s/it]\n",
      "Evaluating: 100%|████████████████████████████████████████████████| 13/13 [00:05<00:00,  2.20it/s]\n",
      "/Users/qwang/transformer_env/lib/python3.12/site-packages/sklearn/metrics/_classification.py:1731: UndefinedMetricWarning: Precision is ill-defined and being set to 0.0 in labels with no predicted samples. Use `zero_division` parameter to control this behavior.\n",
      "  _warn_prf(average, modifier, f\"{metric.capitalize()} is\", result.shape[0])\n"
     ]
    },
    {
     "name": "stdout",
     "output_type": "stream",
     "text": [
      "\n",
      "Train Acc: 0.8968\n",
      "Val Acc: 0.8986, Precision: 0.8074, Recall: 0.8986, F1: 0.8505\n",
      "\n",
      "Epoch 5/30\n"
     ]
    },
    {
     "name": "stderr",
     "output_type": "stream",
     "text": [
      "Training: 100%|██████████████████████████████████████████████████| 52/52 [01:03<00:00,  1.22s/it]\n",
      "Evaluating: 100%|████████████████████████████████████████████████| 13/13 [00:06<00:00,  2.16it/s]\n",
      "/Users/qwang/transformer_env/lib/python3.12/site-packages/sklearn/metrics/_classification.py:1731: UndefinedMetricWarning: Precision is ill-defined and being set to 0.0 in labels with no predicted samples. Use `zero_division` parameter to control this behavior.\n",
      "  _warn_prf(average, modifier, f\"{metric.capitalize()} is\", result.shape[0])\n"
     ]
    },
    {
     "name": "stdout",
     "output_type": "stream",
     "text": [
      "\n",
      "Train Acc: 0.8968\n",
      "Val Acc: 0.8986, Precision: 0.8074, Recall: 0.8986, F1: 0.8505\n",
      "\n",
      "Epoch 6/30\n"
     ]
    },
    {
     "name": "stderr",
     "output_type": "stream",
     "text": [
      "Training: 100%|██████████████████████████████████████████████████| 52/52 [01:02<00:00,  1.20s/it]\n",
      "Evaluating: 100%|████████████████████████████████████████████████| 13/13 [00:06<00:00,  2.10it/s]\n"
     ]
    },
    {
     "name": "stdout",
     "output_type": "stream",
     "text": [
      "\n",
      "Train Acc: 0.8980\n",
      "Val Acc: 0.9034, Precision: 0.8794, Recall: 0.9034, F1: 0.8756\n",
      "✅ Saved best model for fold 5 (F1: 0.8756)\n",
      "\n",
      "Epoch 7/30\n"
     ]
    },
    {
     "name": "stderr",
     "output_type": "stream",
     "text": [
      "Training: 100%|██████████████████████████████████████████████████| 52/52 [01:03<00:00,  1.21s/it]\n",
      "Evaluating: 100%|████████████████████████████████████████████████| 13/13 [00:05<00:00,  2.17it/s]\n"
     ]
    },
    {
     "name": "stdout",
     "output_type": "stream",
     "text": [
      "\n",
      "Train Acc: 0.8986\n",
      "Val Acc: 0.9082, Precision: 0.8950, Recall: 0.9082, F1: 0.8790\n",
      "✅ Saved best model for fold 5 (F1: 0.8790)\n",
      "\n",
      "Epoch 8/30\n"
     ]
    },
    {
     "name": "stderr",
     "output_type": "stream",
     "text": [
      "Training: 100%|██████████████████████████████████████████████████| 52/52 [01:02<00:00,  1.21s/it]\n",
      "Evaluating: 100%|████████████████████████████████████████████████| 13/13 [00:06<00:00,  2.05it/s]\n"
     ]
    },
    {
     "name": "stdout",
     "output_type": "stream",
     "text": [
      "\n",
      "Train Acc: 0.8920\n",
      "Val Acc: 0.8986, Precision: 0.8670, Recall: 0.8986, F1: 0.8694\n",
      "\n",
      "Epoch 9/30\n"
     ]
    },
    {
     "name": "stderr",
     "output_type": "stream",
     "text": [
      "Training: 100%|██████████████████████████████████████████████████| 52/52 [01:03<00:00,  1.22s/it]\n",
      "Evaluating: 100%|████████████████████████████████████████████████| 13/13 [00:05<00:00,  2.23it/s]\n",
      "/Users/qwang/transformer_env/lib/python3.12/site-packages/sklearn/metrics/_classification.py:1731: UndefinedMetricWarning: Precision is ill-defined and being set to 0.0 in labels with no predicted samples. Use `zero_division` parameter to control this behavior.\n",
      "  _warn_prf(average, modifier, f\"{metric.capitalize()} is\", result.shape[0])\n"
     ]
    },
    {
     "name": "stdout",
     "output_type": "stream",
     "text": [
      "\n",
      "Train Acc: 0.9004\n",
      "Val Acc: 0.8986, Precision: 0.8074, Recall: 0.8986, F1: 0.8505\n",
      "\n",
      "Epoch 10/30\n"
     ]
    },
    {
     "name": "stderr",
     "output_type": "stream",
     "text": [
      "Training: 100%|██████████████████████████████████████████████████| 52/52 [01:03<00:00,  1.21s/it]\n",
      "Evaluating: 100%|████████████████████████████████████████████████| 13/13 [00:06<00:00,  2.15it/s]\n"
     ]
    },
    {
     "name": "stdout",
     "output_type": "stream",
     "text": [
      "\n",
      "Train Acc: 0.9119\n",
      "Val Acc: 0.9324, Precision: 0.9258, Recall: 0.9324, F1: 0.9262\n",
      "✅ Saved best model for fold 5 (F1: 0.9262)\n",
      "\n",
      "Epoch 11/30\n"
     ]
    },
    {
     "name": "stderr",
     "output_type": "stream",
     "text": [
      "Training: 100%|██████████████████████████████████████████████████| 52/52 [01:04<00:00,  1.23s/it]\n",
      "Evaluating: 100%|████████████████████████████████████████████████| 13/13 [00:06<00:00,  2.11it/s]\n"
     ]
    },
    {
     "name": "stdout",
     "output_type": "stream",
     "text": [
      "\n",
      "Train Acc: 0.9203\n",
      "Val Acc: 0.8961, Precision: 0.8715, Recall: 0.8961, F1: 0.8781\n",
      "\n",
      "Epoch 12/30\n"
     ]
    },
    {
     "name": "stderr",
     "output_type": "stream",
     "text": [
      "Training: 100%|██████████████████████████████████████████████████| 52/52 [01:04<00:00,  1.24s/it]\n",
      "Evaluating: 100%|████████████████████████████████████████████████| 13/13 [00:06<00:00,  1.91it/s]\n"
     ]
    },
    {
     "name": "stdout",
     "output_type": "stream",
     "text": [
      "\n",
      "Train Acc: 0.9324\n",
      "Val Acc: 0.9324, Precision: 0.9256, Recall: 0.9324, F1: 0.9251\n",
      "\n",
      "Epoch 13/30\n"
     ]
    },
    {
     "name": "stderr",
     "output_type": "stream",
     "text": [
      "Training: 100%|██████████████████████████████████████████████████| 52/52 [01:03<00:00,  1.23s/it]\n",
      "Evaluating: 100%|████████████████████████████████████████████████| 13/13 [00:06<00:00,  2.13it/s]\n"
     ]
    },
    {
     "name": "stdout",
     "output_type": "stream",
     "text": [
      "\n",
      "Train Acc: 0.9336\n",
      "Val Acc: 0.9565, Precision: 0.9567, Recall: 0.9565, F1: 0.9519\n",
      "✅ Saved best model for fold 5 (F1: 0.9519)\n",
      "\n",
      "Epoch 14/30\n"
     ]
    },
    {
     "name": "stderr",
     "output_type": "stream",
     "text": [
      "Training: 100%|██████████████████████████████████████████████████| 52/52 [01:03<00:00,  1.23s/it]\n",
      "Evaluating: 100%|████████████████████████████████████████████████| 13/13 [00:06<00:00,  2.14it/s]\n"
     ]
    },
    {
     "name": "stdout",
     "output_type": "stream",
     "text": [
      "\n",
      "Train Acc: 0.9378\n",
      "Val Acc: 0.9227, Precision: 0.9288, Recall: 0.9227, F1: 0.9005\n",
      "\n",
      "Epoch 15/30\n"
     ]
    },
    {
     "name": "stderr",
     "output_type": "stream",
     "text": [
      "Training: 100%|██████████████████████████████████████████████████| 52/52 [01:02<00:00,  1.21s/it]\n",
      "Evaluating: 100%|████████████████████████████████████████████████| 13/13 [00:06<00:00,  2.13it/s]\n"
     ]
    },
    {
     "name": "stdout",
     "output_type": "stream",
     "text": [
      "\n",
      "Train Acc: 0.9596\n",
      "Val Acc: 0.9179, Precision: 0.9058, Recall: 0.9179, F1: 0.9061\n",
      "\n",
      "Epoch 16/30\n"
     ]
    },
    {
     "name": "stderr",
     "output_type": "stream",
     "text": [
      "Training: 100%|██████████████████████████████████████████████████| 52/52 [01:03<00:00,  1.22s/it]\n",
      "Evaluating: 100%|████████████████████████████████████████████████| 13/13 [00:06<00:00,  2.12it/s]\n"
     ]
    },
    {
     "name": "stdout",
     "output_type": "stream",
     "text": [
      "\n",
      "Train Acc: 0.9590\n",
      "Val Acc: 0.9348, Precision: 0.9288, Recall: 0.9348, F1: 0.9294\n",
      "\n",
      "Epoch 17/30\n"
     ]
    },
    {
     "name": "stderr",
     "output_type": "stream",
     "text": [
      "Training: 100%|██████████████████████████████████████████████████| 52/52 [01:04<00:00,  1.24s/it]\n",
      "Evaluating: 100%|████████████████████████████████████████████████| 13/13 [00:06<00:00,  2.01it/s]\n"
     ]
    },
    {
     "name": "stdout",
     "output_type": "stream",
     "text": [
      "\n",
      "Train Acc: 0.9807\n",
      "Val Acc: 0.9227, Precision: 0.9466, Recall: 0.9227, F1: 0.9300\n",
      "\n",
      "Epoch 18/30\n"
     ]
    },
    {
     "name": "stderr",
     "output_type": "stream",
     "text": [
      "Training: 100%|██████████████████████████████████████████████████| 52/52 [01:03<00:00,  1.23s/it]\n",
      "Evaluating: 100%|████████████████████████████████████████████████| 13/13 [00:06<00:00,  2.11it/s]\n"
     ]
    },
    {
     "name": "stdout",
     "output_type": "stream",
     "text": [
      "\n",
      "Train Acc: 0.9795\n",
      "Val Acc: 0.9372, Precision: 0.9487, Recall: 0.9372, F1: 0.9411\n",
      "\n",
      "Epoch 19/30\n"
     ]
    },
    {
     "name": "stderr",
     "output_type": "stream",
     "text": [
      "Training: 100%|██████████████████████████████████████████████████| 52/52 [01:03<00:00,  1.23s/it]\n",
      "Evaluating: 100%|████████████████████████████████████████████████| 13/13 [00:05<00:00,  2.19it/s]\n"
     ]
    },
    {
     "name": "stdout",
     "output_type": "stream",
     "text": [
      "\n",
      "Train Acc: 0.9831\n",
      "Val Acc: 0.9444, Precision: 0.9420, Recall: 0.9444, F1: 0.9429\n",
      "\n",
      "Epoch 20/30\n"
     ]
    },
    {
     "name": "stderr",
     "output_type": "stream",
     "text": [
      "Training: 100%|██████████████████████████████████████████████████| 52/52 [01:02<00:00,  1.21s/it]\n",
      "Evaluating: 100%|████████████████████████████████████████████████| 13/13 [00:06<00:00,  2.09it/s]\n"
     ]
    },
    {
     "name": "stdout",
     "output_type": "stream",
     "text": [
      "\n",
      "Train Acc: 0.9837\n",
      "Val Acc: 0.9469, Precision: 0.9433, Recall: 0.9469, F1: 0.9429\n",
      "\n",
      "Epoch 21/30\n"
     ]
    },
    {
     "name": "stderr",
     "output_type": "stream",
     "text": [
      "Training: 100%|██████████████████████████████████████████████████| 52/52 [01:03<00:00,  1.22s/it]\n",
      "Evaluating: 100%|████████████████████████████████████████████████| 13/13 [00:06<00:00,  2.12it/s]\n"
     ]
    },
    {
     "name": "stdout",
     "output_type": "stream",
     "text": [
      "\n",
      "Train Acc: 0.9891\n",
      "Val Acc: 0.9541, Precision: 0.9522, Recall: 0.9541, F1: 0.9528\n",
      "✅ Saved best model for fold 5 (F1: 0.9528)\n",
      "\n",
      "Epoch 22/30\n"
     ]
    },
    {
     "name": "stderr",
     "output_type": "stream",
     "text": [
      "Training: 100%|██████████████████████████████████████████████████| 52/52 [01:04<00:00,  1.24s/it]\n",
      "Evaluating: 100%|████████████████████████████████████████████████| 13/13 [00:06<00:00,  2.02it/s]\n"
     ]
    },
    {
     "name": "stdout",
     "output_type": "stream",
     "text": [
      "\n",
      "Train Acc: 0.9928\n",
      "Val Acc: 0.9638, Precision: 0.9625, Recall: 0.9638, F1: 0.9627\n",
      "✅ Saved best model for fold 5 (F1: 0.9627)\n",
      "\n",
      "Epoch 23/30\n"
     ]
    },
    {
     "name": "stderr",
     "output_type": "stream",
     "text": [
      "Training: 100%|██████████████████████████████████████████████████| 52/52 [01:03<00:00,  1.22s/it]\n",
      "Evaluating: 100%|████████████████████████████████████████████████| 13/13 [00:06<00:00,  2.04it/s]\n"
     ]
    },
    {
     "name": "stdout",
     "output_type": "stream",
     "text": [
      "\n",
      "Train Acc: 0.9909\n",
      "Val Acc: 0.9565, Precision: 0.9575, Recall: 0.9565, F1: 0.9570\n",
      "\n",
      "Epoch 24/30\n"
     ]
    },
    {
     "name": "stderr",
     "output_type": "stream",
     "text": [
      "Training: 100%|██████████████████████████████████████████████████| 52/52 [01:03<00:00,  1.21s/it]\n",
      "Evaluating: 100%|████████████████████████████████████████████████| 13/13 [00:05<00:00,  2.17it/s]\n"
     ]
    },
    {
     "name": "stdout",
     "output_type": "stream",
     "text": [
      "\n",
      "Train Acc: 0.9952\n",
      "Val Acc: 0.9565, Precision: 0.9548, Recall: 0.9565, F1: 0.9532\n",
      "\n",
      "Epoch 25/30\n"
     ]
    },
    {
     "name": "stderr",
     "output_type": "stream",
     "text": [
      "Training: 100%|██████████████████████████████████████████████████| 52/52 [01:03<00:00,  1.21s/it]\n",
      "Evaluating: 100%|████████████████████████████████████████████████| 13/13 [00:05<00:00,  2.21it/s]\n"
     ]
    },
    {
     "name": "stdout",
     "output_type": "stream",
     "text": [
      "\n",
      "Train Acc: 0.9982\n",
      "Val Acc: 0.9638, Precision: 0.9623, Recall: 0.9638, F1: 0.9623\n",
      "\n",
      "Epoch 26/30\n"
     ]
    },
    {
     "name": "stderr",
     "output_type": "stream",
     "text": [
      "Training: 100%|██████████████████████████████████████████████████| 52/52 [01:03<00:00,  1.22s/it]\n",
      "Evaluating: 100%|████████████████████████████████████████████████| 13/13 [00:06<00:00,  2.14it/s]\n"
     ]
    },
    {
     "name": "stdout",
     "output_type": "stream",
     "text": [
      "\n",
      "Train Acc: 0.9988\n",
      "Val Acc: 0.9638, Precision: 0.9623, Recall: 0.9638, F1: 0.9623\n",
      "\n",
      "Epoch 27/30\n"
     ]
    },
    {
     "name": "stderr",
     "output_type": "stream",
     "text": [
      "Training: 100%|██████████████████████████████████████████████████| 52/52 [01:02<00:00,  1.21s/it]\n",
      "Evaluating: 100%|████████████████████████████████████████████████| 13/13 [00:06<00:00,  2.16it/s]\n"
     ]
    },
    {
     "name": "stdout",
     "output_type": "stream",
     "text": [
      "\n",
      "Train Acc: 0.9982\n",
      "Val Acc: 0.9614, Precision: 0.9598, Recall: 0.9614, F1: 0.9600\n",
      "\n",
      "Epoch 28/30\n"
     ]
    },
    {
     "name": "stderr",
     "output_type": "stream",
     "text": [
      "Training: 100%|██████████████████████████████████████████████████| 52/52 [01:03<00:00,  1.22s/it]\n",
      "Evaluating: 100%|████████████████████████████████████████████████| 13/13 [00:06<00:00,  2.13it/s]\n"
     ]
    },
    {
     "name": "stdout",
     "output_type": "stream",
     "text": [
      "\n",
      "Train Acc: 0.9994\n",
      "Val Acc: 0.9614, Precision: 0.9598, Recall: 0.9614, F1: 0.9600\n",
      "\n",
      "Epoch 29/30\n"
     ]
    },
    {
     "name": "stderr",
     "output_type": "stream",
     "text": [
      "Training: 100%|██████████████████████████████████████████████████| 52/52 [01:04<00:00,  1.24s/it]\n",
      "Evaluating: 100%|████████████████████████████████████████████████| 13/13 [00:06<00:00,  2.14it/s]\n"
     ]
    },
    {
     "name": "stdout",
     "output_type": "stream",
     "text": [
      "\n",
      "Train Acc: 0.9988\n",
      "Val Acc: 0.9638, Precision: 0.9625, Recall: 0.9638, F1: 0.9627\n",
      "\n",
      "Epoch 30/30\n"
     ]
    },
    {
     "name": "stderr",
     "output_type": "stream",
     "text": [
      "Training: 100%|██████████████████████████████████████████████████| 52/52 [01:03<00:00,  1.22s/it]\n",
      "Evaluating: 100%|████████████████████████████████████████████████| 13/13 [00:06<00:00,  2.10it/s]"
     ]
    },
    {
     "name": "stdout",
     "output_type": "stream",
     "text": [
      "\n",
      "Train Acc: 0.9994\n",
      "Val Acc: 0.9614, Precision: 0.9598, Recall: 0.9614, F1: 0.9600\n"
     ]
    },
    {
     "name": "stderr",
     "output_type": "stream",
     "text": [
      "\n"
     ]
    }
   ],
   "source": [
    "# ========== CROSS VALIDATION SPLIT ==========\n",
    "skf = StratifiedKFold(n_splits=5, shuffle=True, random_state=42)\n",
    "\n",
    "fold = 1\n",
    "for train_idx, val_idx in skf.split(image_paths, labels):\n",
    "    print(f\"\\n===== Fold {fold} =====\")\n",
    "\n",
    "    train_ds = ImageDataset([image_paths[i] for i in train_idx],\n",
    "                            [labels[i].item() for i in train_idx],\n",
    "                            transform=train_transforms)\n",
    "    \n",
    "    val_ds = ImageDataset([image_paths[i] for i in val_idx],\n",
    "                          [labels[i].item() for i in val_idx],\n",
    "                          transform=val_transforms)\n",
    "    \n",
    "    train_loader = DataLoader(train_ds, batch_size=batch_size, shuffle=True)#, num_workers=4, pin_memory=True)\n",
    "    val_loader = DataLoader(val_ds, batch_size=batch_size, shuffle=False)#, num_workers=4, pin_memory=True)\n",
    "\n",
    "    # Load model\n",
    "    model = timm.create_model(model_name, pretrained=True, num_classes=2)\n",
    "    # Train model head\n",
    "    # model.head = nn.Linear(model.head.in_features, 2)\n",
    "    # Fine-tune all layers\n",
    "    for param in model.parameters():\n",
    "        param.requires_grad = True\n",
    "\n",
    "    model = model.to(device)\n",
    "\n",
    "    criterion = nn.CrossEntropyLoss()\n",
    "    optimizer = optim.AdamW(model.parameters(), lr=lr, weight_decay=0.05)\n",
    "    scheduler = optim.lr_scheduler.CosineAnnealingLR(optimizer, T_max=epochs)\n",
    "\n",
    "    best_f1 = 0\n",
    "    for epoch in range(1, epochs + 1):\n",
    "        print(f\"\\nEpoch {epoch}/{epochs}\")\n",
    "\n",
    "        # ===== Train =====\n",
    "        model.train()\n",
    "        total_loss = 0\n",
    "        train_preds, train_labels = [], []\n",
    "        for imgs, lbls in tqdm(train_loader, desc=\"Training\"):\n",
    "            imgs, lbls = imgs.to(device), lbls.to(device)\n",
    "            optimizer.zero_grad()\n",
    "            outputs = model(imgs)\n",
    "            loss = criterion(outputs, lbls)\n",
    "            loss.backward()\n",
    "            optimizer.step()\n",
    "            total_loss += loss.item()\n",
    "            train_preds += outputs.argmax(1).cpu().tolist()\n",
    "            train_labels += lbls.cpu().tolist()\n",
    "\n",
    "        train_acc = accuracy_score(train_labels, train_preds)\n",
    "\n",
    "        # ===== Eval =====\n",
    "        model.eval()\n",
    "        val_preds, val_labels = [], []\n",
    "        with torch.no_grad():\n",
    "            for imgs, lbls in tqdm(val_loader, desc=\"Evaluating\"):\n",
    "                imgs, lbls = imgs.to(device), lbls.to(device)\n",
    "                outputs = model(imgs)\n",
    "                val_preds += outputs.argmax(1).cpu().tolist()\n",
    "                val_labels += lbls.cpu().tolist()\n",
    "\n",
    "        val_acc = accuracy_score(val_labels, val_preds)\n",
    "        val_prec, val_rec, val_f1, _ = precision_recall_fscore_support(\n",
    "            val_labels, val_preds, average='weighted')\n",
    "\n",
    "        print(f\"\\nTrain Acc: {train_acc:.4f}\")\n",
    "        print(f\"Val Acc: {val_acc:.4f}, Precision: {val_prec:.4f}, Recall: {val_rec:.4f}, F1: {val_f1:.4f}\")\n",
    "\n",
    "        scheduler.step()\n",
    "        \n",
    "        # Save best model\n",
    "        if val_f1 > best_f1:\n",
    "            best_f1 = val_f1\n",
    "            torch.save(model.state_dict(), os.path.join(output_dir, f\"fold{fold}_best.pth\"))\n",
    "            print(f\"✅ Saved best model for fold {fold} (F1: {best_f1:.4f})\")\n",
    "\n",
    "    fold += 1"
   ]
  },
  {
   "cell_type": "code",
   "execution_count": null,
   "metadata": {},
   "outputs": [],
   "source": []
  }
 ],
 "metadata": {
  "kernelspec": {
   "display_name": "Transformer (PyTorch)",
   "language": "python",
   "name": "transformer_env"
  },
  "language_info": {
   "codemirror_mode": {
    "name": "ipython",
    "version": 3
   },
   "file_extension": ".py",
   "mimetype": "text/x-python",
   "name": "python",
   "nbconvert_exporter": "python",
   "pygments_lexer": "ipython3",
   "version": "3.12.7"
  }
 },
 "nbformat": 4,
 "nbformat_minor": 4
}
